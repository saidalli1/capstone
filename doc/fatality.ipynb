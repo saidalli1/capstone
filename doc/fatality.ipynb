{
 "cells": [
  {
   "cell_type": "code",
   "execution_count": 140,
   "metadata": {},
   "outputs": [],
   "source": [
    "# Importing libraries\n",
    "import pandas as pd\n",
    "import matplotlib.pyplot as plt\n",
    "import plotly.graph_objects as go\n",
    "import seaborn as sns"
   ]
  },
  {
   "cell_type": "code",
   "execution_count": 141,
   "metadata": {},
   "outputs": [
    {
     "name": "stderr",
     "output_type": "stream",
     "text": [
      "C:\\Users\\saiha\\AppData\\Local\\Temp\\ipykernel_19800\\3134798427.py:4: DtypeWarning:\n",
      "\n",
      "Columns (14,56,58,176,178) have mixed types. Specify dtype option on import or set low_memory=False.\n",
      "\n",
      "C:\\Users\\saiha\\AppData\\Local\\Temp\\ipykernel_19800\\3134798427.py:6: DtypeWarning:\n",
      "\n",
      "Columns (14) have mixed types. Specify dtype option on import or set low_memory=False.\n",
      "\n"
     ]
    },
    {
     "data": {
      "text/html": [
       "<div>\n",
       "<style scoped>\n",
       "    .dataframe tbody tr th:only-of-type {\n",
       "        vertical-align: middle;\n",
       "    }\n",
       "\n",
       "    .dataframe tbody tr th {\n",
       "        vertical-align: top;\n",
       "    }\n",
       "\n",
       "    .dataframe thead th {\n",
       "        text-align: right;\n",
       "    }\n",
       "</style>\n",
       "<table border=\"1\" class=\"dataframe\">\n",
       "  <thead>\n",
       "    <tr style=\"text-align: right;\">\n",
       "      <th></th>\n",
       "      <th>STATE</th>\n",
       "      <th>STATENAME</th>\n",
       "      <th>ST_CASE</th>\n",
       "      <th>VEH_NO</th>\n",
       "      <th>VE_FORMS</th>\n",
       "      <th>NUMOCCS</th>\n",
       "      <th>NUMOCCSNAME</th>\n",
       "      <th>DAY</th>\n",
       "      <th>DAYNAME</th>\n",
       "      <th>MONTH</th>\n",
       "      <th>...</th>\n",
       "      <th>GVWR_FROM</th>\n",
       "      <th>GVWR_FROMNAME</th>\n",
       "      <th>GVWR_TO</th>\n",
       "      <th>GVWR_TONAME</th>\n",
       "      <th>TRLR1GVWR</th>\n",
       "      <th>TRLR1GVWRNAME</th>\n",
       "      <th>TRLR2GVWR</th>\n",
       "      <th>TRLR2GVWRNAME</th>\n",
       "      <th>TRLR3GVWR</th>\n",
       "      <th>TRLR3GVWRNAME</th>\n",
       "    </tr>\n",
       "  </thead>\n",
       "  <tbody>\n",
       "    <tr>\n",
       "      <th>0</th>\n",
       "      <td>1</td>\n",
       "      <td>Alabama</td>\n",
       "      <td>10001</td>\n",
       "      <td>1</td>\n",
       "      <td>2</td>\n",
       "      <td>2</td>\n",
       "      <td>02</td>\n",
       "      <td>12</td>\n",
       "      <td>12</td>\n",
       "      <td>2</td>\n",
       "      <td>...</td>\n",
       "      <td>11</td>\n",
       "      <td>Class 1: 6,000 lbs. or less (2,722 kg or less)</td>\n",
       "      <td>11</td>\n",
       "      <td>Class 1: 6,000 lbs. or less (2,722 kg or less)</td>\n",
       "      <td>77</td>\n",
       "      <td>No Trailing Units</td>\n",
       "      <td>77</td>\n",
       "      <td>No Trailing Units</td>\n",
       "      <td>77</td>\n",
       "      <td>No Trailing Units</td>\n",
       "    </tr>\n",
       "    <tr>\n",
       "      <th>1</th>\n",
       "      <td>1</td>\n",
       "      <td>Alabama</td>\n",
       "      <td>10001</td>\n",
       "      <td>2</td>\n",
       "      <td>2</td>\n",
       "      <td>1</td>\n",
       "      <td>01</td>\n",
       "      <td>12</td>\n",
       "      <td>12</td>\n",
       "      <td>2</td>\n",
       "      <td>...</td>\n",
       "      <td>11</td>\n",
       "      <td>Class 1: 6,000 lbs. or less (2,722 kg or less)</td>\n",
       "      <td>11</td>\n",
       "      <td>Class 1: 6,000 lbs. or less (2,722 kg or less)</td>\n",
       "      <td>77</td>\n",
       "      <td>No Trailing Units</td>\n",
       "      <td>77</td>\n",
       "      <td>No Trailing Units</td>\n",
       "      <td>77</td>\n",
       "      <td>No Trailing Units</td>\n",
       "    </tr>\n",
       "    <tr>\n",
       "      <th>2</th>\n",
       "      <td>1</td>\n",
       "      <td>Alabama</td>\n",
       "      <td>10002</td>\n",
       "      <td>1</td>\n",
       "      <td>1</td>\n",
       "      <td>2</td>\n",
       "      <td>02</td>\n",
       "      <td>11</td>\n",
       "      <td>11</td>\n",
       "      <td>2</td>\n",
       "      <td>...</td>\n",
       "      <td>11</td>\n",
       "      <td>Class 1: 6,000 lbs. or less (2,722 kg or less)</td>\n",
       "      <td>11</td>\n",
       "      <td>Class 1: 6,000 lbs. or less (2,722 kg or less)</td>\n",
       "      <td>77</td>\n",
       "      <td>No Trailing Units</td>\n",
       "      <td>77</td>\n",
       "      <td>No Trailing Units</td>\n",
       "      <td>77</td>\n",
       "      <td>No Trailing Units</td>\n",
       "    </tr>\n",
       "    <tr>\n",
       "      <th>3</th>\n",
       "      <td>1</td>\n",
       "      <td>Alabama</td>\n",
       "      <td>10003</td>\n",
       "      <td>1</td>\n",
       "      <td>1</td>\n",
       "      <td>1</td>\n",
       "      <td>01</td>\n",
       "      <td>7</td>\n",
       "      <td>7</td>\n",
       "      <td>2</td>\n",
       "      <td>...</td>\n",
       "      <td>11</td>\n",
       "      <td>Class 1: 6,000 lbs. or less (2,722 kg or less)</td>\n",
       "      <td>11</td>\n",
       "      <td>Class 1: 6,000 lbs. or less (2,722 kg or less)</td>\n",
       "      <td>77</td>\n",
       "      <td>No Trailing Units</td>\n",
       "      <td>77</td>\n",
       "      <td>No Trailing Units</td>\n",
       "      <td>77</td>\n",
       "      <td>No Trailing Units</td>\n",
       "    </tr>\n",
       "    <tr>\n",
       "      <th>4</th>\n",
       "      <td>1</td>\n",
       "      <td>Alabama</td>\n",
       "      <td>10004</td>\n",
       "      <td>1</td>\n",
       "      <td>1</td>\n",
       "      <td>1</td>\n",
       "      <td>01</td>\n",
       "      <td>3</td>\n",
       "      <td>3</td>\n",
       "      <td>2</td>\n",
       "      <td>...</td>\n",
       "      <td>11</td>\n",
       "      <td>Class 1: 6,000 lbs. or less (2,722 kg or less)</td>\n",
       "      <td>11</td>\n",
       "      <td>Class 1: 6,000 lbs. or less (2,722 kg or less)</td>\n",
       "      <td>77</td>\n",
       "      <td>No Trailing Units</td>\n",
       "      <td>77</td>\n",
       "      <td>No Trailing Units</td>\n",
       "      <td>77</td>\n",
       "      <td>No Trailing Units</td>\n",
       "    </tr>\n",
       "    <tr>\n",
       "      <th>...</th>\n",
       "      <td>...</td>\n",
       "      <td>...</td>\n",
       "      <td>...</td>\n",
       "      <td>...</td>\n",
       "      <td>...</td>\n",
       "      <td>...</td>\n",
       "      <td>...</td>\n",
       "      <td>...</td>\n",
       "      <td>...</td>\n",
       "      <td>...</td>\n",
       "      <td>...</td>\n",
       "      <td>...</td>\n",
       "      <td>...</td>\n",
       "      <td>...</td>\n",
       "      <td>...</td>\n",
       "      <td>...</td>\n",
       "      <td>...</td>\n",
       "      <td>...</td>\n",
       "      <td>...</td>\n",
       "      <td>...</td>\n",
       "      <td>...</td>\n",
       "    </tr>\n",
       "    <tr>\n",
       "      <th>61327</th>\n",
       "      <td>56</td>\n",
       "      <td>Wyoming</td>\n",
       "      <td>560101</td>\n",
       "      <td>2</td>\n",
       "      <td>2</td>\n",
       "      <td>1</td>\n",
       "      <td>01</td>\n",
       "      <td>14</td>\n",
       "      <td>14</td>\n",
       "      <td>12</td>\n",
       "      <td>...</td>\n",
       "      <td>16</td>\n",
       "      <td>Class 6: 19,501 - 26,000 lbs. (8,845 - 11,794 kg)</td>\n",
       "      <td>16</td>\n",
       "      <td>Class 6: 19,501 - 26,000 lbs. (8,845 - 11,794 kg)</td>\n",
       "      <td>77</td>\n",
       "      <td>No Trailing Units</td>\n",
       "      <td>77</td>\n",
       "      <td>No Trailing Units</td>\n",
       "      <td>77</td>\n",
       "      <td>No Trailing Units</td>\n",
       "    </tr>\n",
       "    <tr>\n",
       "      <th>61328</th>\n",
       "      <td>56</td>\n",
       "      <td>Wyoming</td>\n",
       "      <td>560102</td>\n",
       "      <td>1</td>\n",
       "      <td>1</td>\n",
       "      <td>1</td>\n",
       "      <td>01</td>\n",
       "      <td>15</td>\n",
       "      <td>15</td>\n",
       "      <td>12</td>\n",
       "      <td>...</td>\n",
       "      <td>18</td>\n",
       "      <td>Class 8: 33,001 lbs. and above (14,969 kg and ...</td>\n",
       "      <td>18</td>\n",
       "      <td>Class 8: 33,001 lbs. and above (14,969 kg and ...</td>\n",
       "      <td>98</td>\n",
       "      <td>Not Reported</td>\n",
       "      <td>77</td>\n",
       "      <td>No Trailing Units</td>\n",
       "      <td>77</td>\n",
       "      <td>No Trailing Units</td>\n",
       "    </tr>\n",
       "    <tr>\n",
       "      <th>61329</th>\n",
       "      <td>56</td>\n",
       "      <td>Wyoming</td>\n",
       "      <td>560103</td>\n",
       "      <td>1</td>\n",
       "      <td>1</td>\n",
       "      <td>1</td>\n",
       "      <td>01</td>\n",
       "      <td>19</td>\n",
       "      <td>19</td>\n",
       "      <td>12</td>\n",
       "      <td>...</td>\n",
       "      <td>12</td>\n",
       "      <td>Class 2: 6,001 - 10,000 lbs. (2,722 - 4,536 kg)</td>\n",
       "      <td>12</td>\n",
       "      <td>Class 2: 6,001 - 10,000 lbs. (2,722 - 4,536 kg)</td>\n",
       "      <td>77</td>\n",
       "      <td>No Trailing Units</td>\n",
       "      <td>77</td>\n",
       "      <td>No Trailing Units</td>\n",
       "      <td>77</td>\n",
       "      <td>No Trailing Units</td>\n",
       "    </tr>\n",
       "    <tr>\n",
       "      <th>61330</th>\n",
       "      <td>56</td>\n",
       "      <td>Wyoming</td>\n",
       "      <td>560104</td>\n",
       "      <td>1</td>\n",
       "      <td>2</td>\n",
       "      <td>1</td>\n",
       "      <td>01</td>\n",
       "      <td>20</td>\n",
       "      <td>20</td>\n",
       "      <td>12</td>\n",
       "      <td>...</td>\n",
       "      <td>11</td>\n",
       "      <td>Class 1: 6,000 lbs. or less (2,722 kg or less)</td>\n",
       "      <td>11</td>\n",
       "      <td>Class 1: 6,000 lbs. or less (2,722 kg or less)</td>\n",
       "      <td>77</td>\n",
       "      <td>No Trailing Units</td>\n",
       "      <td>77</td>\n",
       "      <td>No Trailing Units</td>\n",
       "      <td>77</td>\n",
       "      <td>No Trailing Units</td>\n",
       "    </tr>\n",
       "    <tr>\n",
       "      <th>61331</th>\n",
       "      <td>56</td>\n",
       "      <td>Wyoming</td>\n",
       "      <td>560104</td>\n",
       "      <td>2</td>\n",
       "      <td>2</td>\n",
       "      <td>1</td>\n",
       "      <td>01</td>\n",
       "      <td>20</td>\n",
       "      <td>20</td>\n",
       "      <td>12</td>\n",
       "      <td>...</td>\n",
       "      <td>11</td>\n",
       "      <td>Class 1: 6,000 lbs. or less (2,722 kg or less)</td>\n",
       "      <td>11</td>\n",
       "      <td>Class 1: 6,000 lbs. or less (2,722 kg or less)</td>\n",
       "      <td>77</td>\n",
       "      <td>No Trailing Units</td>\n",
       "      <td>77</td>\n",
       "      <td>No Trailing Units</td>\n",
       "      <td>77</td>\n",
       "      <td>No Trailing Units</td>\n",
       "    </tr>\n",
       "  </tbody>\n",
       "</table>\n",
       "<p>61332 rows × 201 columns</p>\n",
       "</div>"
      ],
      "text/plain": [
       "       STATE STATENAME  ST_CASE  VEH_NO  VE_FORMS  NUMOCCS NUMOCCSNAME  DAY  \\\n",
       "0          1   Alabama    10001       1         2        2          02   12   \n",
       "1          1   Alabama    10001       2         2        1          01   12   \n",
       "2          1   Alabama    10002       1         1        2          02   11   \n",
       "3          1   Alabama    10003       1         1        1          01    7   \n",
       "4          1   Alabama    10004       1         1        1          01    3   \n",
       "...      ...       ...      ...     ...       ...      ...         ...  ...   \n",
       "61327     56   Wyoming   560101       2         2        1          01   14   \n",
       "61328     56   Wyoming   560102       1         1        1          01   15   \n",
       "61329     56   Wyoming   560103       1         1        1          01   19   \n",
       "61330     56   Wyoming   560104       1         2        1          01   20   \n",
       "61331     56   Wyoming   560104       2         2        1          01   20   \n",
       "\n",
       "       DAYNAME  MONTH  ... GVWR_FROM  \\\n",
       "0           12      2  ...        11   \n",
       "1           12      2  ...        11   \n",
       "2           11      2  ...        11   \n",
       "3            7      2  ...        11   \n",
       "4            3      2  ...        11   \n",
       "...        ...    ...  ...       ...   \n",
       "61327       14     12  ...        16   \n",
       "61328       15     12  ...        18   \n",
       "61329       19     12  ...        12   \n",
       "61330       20     12  ...        11   \n",
       "61331       20     12  ...        11   \n",
       "\n",
       "                                           GVWR_FROMNAME GVWR_TO  \\\n",
       "0         Class 1: 6,000 lbs. or less (2,722 kg or less)      11   \n",
       "1         Class 1: 6,000 lbs. or less (2,722 kg or less)      11   \n",
       "2         Class 1: 6,000 lbs. or less (2,722 kg or less)      11   \n",
       "3         Class 1: 6,000 lbs. or less (2,722 kg or less)      11   \n",
       "4         Class 1: 6,000 lbs. or less (2,722 kg or less)      11   \n",
       "...                                                  ...     ...   \n",
       "61327  Class 6: 19,501 - 26,000 lbs. (8,845 - 11,794 kg)      16   \n",
       "61328  Class 8: 33,001 lbs. and above (14,969 kg and ...      18   \n",
       "61329    Class 2: 6,001 - 10,000 lbs. (2,722 - 4,536 kg)      12   \n",
       "61330     Class 1: 6,000 lbs. or less (2,722 kg or less)      11   \n",
       "61331     Class 1: 6,000 lbs. or less (2,722 kg or less)      11   \n",
       "\n",
       "                                             GVWR_TONAME TRLR1GVWR  \\\n",
       "0         Class 1: 6,000 lbs. or less (2,722 kg or less)        77   \n",
       "1         Class 1: 6,000 lbs. or less (2,722 kg or less)        77   \n",
       "2         Class 1: 6,000 lbs. or less (2,722 kg or less)        77   \n",
       "3         Class 1: 6,000 lbs. or less (2,722 kg or less)        77   \n",
       "4         Class 1: 6,000 lbs. or less (2,722 kg or less)        77   \n",
       "...                                                  ...       ...   \n",
       "61327  Class 6: 19,501 - 26,000 lbs. (8,845 - 11,794 kg)        77   \n",
       "61328  Class 8: 33,001 lbs. and above (14,969 kg and ...        98   \n",
       "61329    Class 2: 6,001 - 10,000 lbs. (2,722 - 4,536 kg)        77   \n",
       "61330     Class 1: 6,000 lbs. or less (2,722 kg or less)        77   \n",
       "61331     Class 1: 6,000 lbs. or less (2,722 kg or less)        77   \n",
       "\n",
       "           TRLR1GVWRNAME TRLR2GVWR      TRLR2GVWRNAME TRLR3GVWR  \\\n",
       "0      No Trailing Units        77  No Trailing Units        77   \n",
       "1      No Trailing Units        77  No Trailing Units        77   \n",
       "2      No Trailing Units        77  No Trailing Units        77   \n",
       "3      No Trailing Units        77  No Trailing Units        77   \n",
       "4      No Trailing Units        77  No Trailing Units        77   \n",
       "...                  ...       ...                ...       ...   \n",
       "61327  No Trailing Units        77  No Trailing Units        77   \n",
       "61328       Not Reported        77  No Trailing Units        77   \n",
       "61329  No Trailing Units        77  No Trailing Units        77   \n",
       "61330  No Trailing Units        77  No Trailing Units        77   \n",
       "61331  No Trailing Units        77  No Trailing Units        77   \n",
       "\n",
       "           TRLR3GVWRNAME  \n",
       "0      No Trailing Units  \n",
       "1      No Trailing Units  \n",
       "2      No Trailing Units  \n",
       "3      No Trailing Units  \n",
       "4      No Trailing Units  \n",
       "...                  ...  \n",
       "61327  No Trailing Units  \n",
       "61328  No Trailing Units  \n",
       "61329  No Trailing Units  \n",
       "61330  No Trailing Units  \n",
       "61331  No Trailing Units  \n",
       "\n",
       "[61332 rows x 201 columns]"
      ]
     },
     "execution_count": 141,
     "metadata": {},
     "output_type": "execute_result"
    }
   ],
   "source": [
    "# Reading the data\n",
    "accident_df = pd.read_csv('C:\\\\Users\\\\saiha\\\\OneDrive\\\\Desktop\\\\Data Science\\\\Capstone\\\\FARS2021NationalCSV\\\\accident.csv', encoding='latin1')\n",
    "drimpair_df = pd.read_csv('C:\\\\Users\\\\saiha\\\\OneDrive\\\\Desktop\\\\Data Science\\\\Capstone\\\\FARS2021NationalCSV\\\\drimpair.csv', encoding='latin1')\n",
    "vehicle_df = pd.read_csv('C:\\\\Users\\\\saiha\\\\OneDrive\\\\Desktop\\\\Data Science\\\\Capstone\\\\FARS2021NationalCSV\\\\vehicle.csv', encoding='latin1')\n",
    "#nmcrash_df = pd.read_csv('C:\\\\Users\\\\saiha\\\\OneDrive\\\\Desktop\\\\Data Science\\\\Capstone\\\\FARS2021NationalCSV\\\\nmcrash.csv', encoding='latin1')\n",
    "person_df = pd.read_csv('C:\\\\Users\\\\saiha\\\\OneDrive\\\\Desktop\\\\Data Science\\\\Capstone\\\\FARS2021NationalCSV\\\\person.csv', encoding='latin1')\n",
    "weather_df = pd.read_csv('C:\\\\Users\\\\saiha\\\\OneDrive\\\\Desktop\\\\Data Science\\\\Capstone\\\\FARS2021NationalCSV\\\\weather.csv', encoding='latin1')\n",
    "vehicle_df"
   ]
  },
  {
   "cell_type": "code",
   "execution_count": 142,
   "metadata": {},
   "outputs": [
    {
     "name": "stdout",
     "output_type": "stream",
     "text": [
      "<class 'pandas.core.frame.DataFrame'>\n",
      "RangeIndex: 39508 entries, 0 to 39507\n",
      "Data columns (total 80 columns):\n",
      " #   Column        Non-Null Count  Dtype  \n",
      "---  ------        --------------  -----  \n",
      " 0   STATE         39508 non-null  int64  \n",
      " 1   STATENAME     39508 non-null  object \n",
      " 2   ST_CASE       39508 non-null  int64  \n",
      " 3   PEDS          39508 non-null  int64  \n",
      " 4   PERNOTMVIT    39508 non-null  int64  \n",
      " 5   VE_TOTAL      39508 non-null  int64  \n",
      " 6   VE_FORMS      39508 non-null  int64  \n",
      " 7   PVH_INVL      39508 non-null  int64  \n",
      " 8   PERSONS       39508 non-null  int64  \n",
      " 9   PERMVIT       39508 non-null  int64  \n",
      " 10  COUNTY        39508 non-null  int64  \n",
      " 11  COUNTYNAME    39508 non-null  object \n",
      " 12  CITY          39508 non-null  int64  \n",
      " 13  CITYNAME      39508 non-null  object \n",
      " 14  MONTH         39508 non-null  int64  \n",
      " 15  MONTHNAME     39508 non-null  object \n",
      " 16  DAY           39508 non-null  int64  \n",
      " 17  DAYNAME       39508 non-null  int64  \n",
      " 18  DAY_WEEK      39508 non-null  int64  \n",
      " 19  DAY_WEEKNAME  39508 non-null  object \n",
      " 20  YEAR          39508 non-null  int64  \n",
      " 21  HOUR          39508 non-null  int64  \n",
      " 22  HOURNAME      39508 non-null  object \n",
      " 23  MINUTE        39508 non-null  int64  \n",
      " 24  MINUTENAME    39508 non-null  object \n",
      " 25  TWAY_ID       39508 non-null  object \n",
      " 26  TWAY_ID2      9649 non-null   object \n",
      " 27  ROUTE         39508 non-null  int64  \n",
      " 28  ROUTENAME     39508 non-null  object \n",
      " 29  RUR_URB       39508 non-null  int64  \n",
      " 30  RUR_URBNAME   39508 non-null  object \n",
      " 31  FUNC_SYS      39508 non-null  int64  \n",
      " 32  FUNC_SYSNAME  39508 non-null  object \n",
      " 33  RD_OWNER      39508 non-null  int64  \n",
      " 34  RD_OWNERNAME  39508 non-null  object \n",
      " 35  NHS           39508 non-null  int64  \n",
      " 36  NHSNAME       39508 non-null  object \n",
      " 37  SP_JUR        39508 non-null  int64  \n",
      " 38  SP_JURNAME    39508 non-null  object \n",
      " 39  MILEPT        39508 non-null  int64  \n",
      " 40  MILEPTNAME    31510 non-null  object \n",
      " 41  LATITUDE      39508 non-null  float64\n",
      " 42  LATITUDENAME  39508 non-null  float64\n",
      " 43  LONGITUD      39508 non-null  float64\n",
      " 44  LONGITUDNAME  39508 non-null  float64\n",
      " 45  HARM_EV       39508 non-null  int64  \n",
      " 46  HARM_EVNAME   39508 non-null  object \n",
      " 47  MAN_COLL      39508 non-null  int64  \n",
      " 48  MAN_COLLNAME  39508 non-null  object \n",
      " 49  RELJCT1       39508 non-null  int64  \n",
      " 50  RELJCT1NAME   39508 non-null  object \n",
      " 51  RELJCT2       39508 non-null  int64  \n",
      " 52  RELJCT2NAME   39508 non-null  object \n",
      " 53  TYP_INT       39508 non-null  int64  \n",
      " 54  TYP_INTNAME   39508 non-null  object \n",
      " 55  REL_ROAD      39508 non-null  int64  \n",
      " 56  REL_ROADNAME  39508 non-null  object \n",
      " 57  WRK_ZONE      39508 non-null  int64  \n",
      " 58  WRK_ZONENAME  872 non-null    object \n",
      " 59  LGT_COND      39508 non-null  int64  \n",
      " 60  LGT_CONDNAME  39508 non-null  object \n",
      " 61  WEATHER       39508 non-null  int64  \n",
      " 62  WEATHERNAME   39508 non-null  object \n",
      " 63  SCH_BUS       39508 non-null  int64  \n",
      " 64  SCH_BUSNAME   39508 non-null  object \n",
      " 65  RAIL          39508 non-null  object \n",
      " 66  RAILNAME      39508 non-null  object \n",
      " 67  NOT_HOUR      39508 non-null  int64  \n",
      " 68  NOT_HOURNAME  39508 non-null  object \n",
      " 69  NOT_MIN       39508 non-null  int64  \n",
      " 70  NOT_MINNAME   39508 non-null  object \n",
      " 71  ARR_HOUR      39508 non-null  int64  \n",
      " 72  ARR_HOURNAME  39508 non-null  object \n",
      " 73  ARR_MIN       39508 non-null  int64  \n",
      " 74  ARR_MINNAME   39508 non-null  object \n",
      " 75  HOSP_HR       39508 non-null  int64  \n",
      " 76  HOSP_HRNAME   39508 non-null  object \n",
      " 77  HOSP_MN       39508 non-null  int64  \n",
      " 78  HOSP_MNNAME   39508 non-null  object \n",
      " 79  FATALS        39508 non-null  int64  \n",
      "dtypes: float64(4), int64(42), object(34)\n",
      "memory usage: 24.1+ MB\n"
     ]
    }
   ],
   "source": [
    "accident_df.info()\n",
    "#drimpair_df.info()\n",
    "#nmcrash_df.info\n",
    "#person_df.info()\n",
    "#weather_df.info()"
   ]
  },
  {
   "cell_type": "code",
   "execution_count": 143,
   "metadata": {},
   "outputs": [],
   "source": [
    "# Filtering rows with only New Jersey\n",
    "accident_nj = accident_df[accident_df['STATE'] == 34 ]\n",
    "drimpair_nj = drimpair_df[drimpair_df['STATE'] == 34]\n",
    "vehicle_nj = vehicle_df[vehicle_df['STATE'] == 34]\n",
    "#nmcrash_nj = nmcrash_df[nmcrash_df['STATE'] == 34]\n",
    "person_nj = person_df[person_df['STATE'] == 34]\n",
    "weather_nj = weather_df[weather_df['STATE'] == 34]\n"
   ]
  },
  {
   "cell_type": "code",
   "execution_count": 144,
   "metadata": {},
   "outputs": [
    {
     "data": {
      "text/html": [
       "<div>\n",
       "<style scoped>\n",
       "    .dataframe tbody tr th:only-of-type {\n",
       "        vertical-align: middle;\n",
       "    }\n",
       "\n",
       "    .dataframe tbody tr th {\n",
       "        vertical-align: top;\n",
       "    }\n",
       "\n",
       "    .dataframe thead th {\n",
       "        text-align: right;\n",
       "    }\n",
       "</style>\n",
       "<table border=\"1\" class=\"dataframe\">\n",
       "  <thead>\n",
       "    <tr style=\"text-align: right;\">\n",
       "      <th></th>\n",
       "      <th>STATE</th>\n",
       "      <th>STATENAME</th>\n",
       "      <th>ST_CASE</th>\n",
       "      <th>VEH_NO</th>\n",
       "      <th>VE_FORMS</th>\n",
       "      <th>NUMOCCS</th>\n",
       "      <th>NUMOCCSNAME</th>\n",
       "      <th>DAY</th>\n",
       "      <th>DAYNAME</th>\n",
       "      <th>MONTH</th>\n",
       "      <th>...</th>\n",
       "      <th>GVWR_FROM</th>\n",
       "      <th>GVWR_FROMNAME</th>\n",
       "      <th>GVWR_TO</th>\n",
       "      <th>GVWR_TONAME</th>\n",
       "      <th>TRLR1GVWR</th>\n",
       "      <th>TRLR1GVWRNAME</th>\n",
       "      <th>TRLR2GVWR</th>\n",
       "      <th>TRLR2GVWRNAME</th>\n",
       "      <th>TRLR3GVWR</th>\n",
       "      <th>TRLR3GVWRNAME</th>\n",
       "    </tr>\n",
       "  </thead>\n",
       "  <tbody>\n",
       "    <tr>\n",
       "      <th>35251</th>\n",
       "      <td>34</td>\n",
       "      <td>New Jersey</td>\n",
       "      <td>340001</td>\n",
       "      <td>1</td>\n",
       "      <td>2</td>\n",
       "      <td>1</td>\n",
       "      <td>01</td>\n",
       "      <td>31</td>\n",
       "      <td>31</td>\n",
       "      <td>1</td>\n",
       "      <td>...</td>\n",
       "      <td>12</td>\n",
       "      <td>Class 2: 6,001 - 10,000 lbs. (2,722 - 4,536 kg)</td>\n",
       "      <td>12</td>\n",
       "      <td>Class 2: 6,001 - 10,000 lbs. (2,722 - 4,536 kg)</td>\n",
       "      <td>77</td>\n",
       "      <td>No Trailing Units</td>\n",
       "      <td>77</td>\n",
       "      <td>No Trailing Units</td>\n",
       "      <td>77</td>\n",
       "      <td>No Trailing Units</td>\n",
       "    </tr>\n",
       "    <tr>\n",
       "      <th>35252</th>\n",
       "      <td>34</td>\n",
       "      <td>New Jersey</td>\n",
       "      <td>340001</td>\n",
       "      <td>2</td>\n",
       "      <td>2</td>\n",
       "      <td>1</td>\n",
       "      <td>01</td>\n",
       "      <td>31</td>\n",
       "      <td>31</td>\n",
       "      <td>1</td>\n",
       "      <td>...</td>\n",
       "      <td>11</td>\n",
       "      <td>Class 1: 6,000 lbs. or less (2,722 kg or less)</td>\n",
       "      <td>11</td>\n",
       "      <td>Class 1: 6,000 lbs. or less (2,722 kg or less)</td>\n",
       "      <td>77</td>\n",
       "      <td>No Trailing Units</td>\n",
       "      <td>77</td>\n",
       "      <td>No Trailing Units</td>\n",
       "      <td>77</td>\n",
       "      <td>No Trailing Units</td>\n",
       "    </tr>\n",
       "    <tr>\n",
       "      <th>35253</th>\n",
       "      <td>34</td>\n",
       "      <td>New Jersey</td>\n",
       "      <td>340002</td>\n",
       "      <td>1</td>\n",
       "      <td>1</td>\n",
       "      <td>1</td>\n",
       "      <td>01</td>\n",
       "      <td>31</td>\n",
       "      <td>31</td>\n",
       "      <td>1</td>\n",
       "      <td>...</td>\n",
       "      <td>11</td>\n",
       "      <td>Class 1: 6,000 lbs. or less (2,722 kg or less)</td>\n",
       "      <td>11</td>\n",
       "      <td>Class 1: 6,000 lbs. or less (2,722 kg or less)</td>\n",
       "      <td>77</td>\n",
       "      <td>No Trailing Units</td>\n",
       "      <td>77</td>\n",
       "      <td>No Trailing Units</td>\n",
       "      <td>77</td>\n",
       "      <td>No Trailing Units</td>\n",
       "    </tr>\n",
       "    <tr>\n",
       "      <th>35254</th>\n",
       "      <td>34</td>\n",
       "      <td>New Jersey</td>\n",
       "      <td>340003</td>\n",
       "      <td>1</td>\n",
       "      <td>2</td>\n",
       "      <td>1</td>\n",
       "      <td>01</td>\n",
       "      <td>27</td>\n",
       "      <td>27</td>\n",
       "      <td>1</td>\n",
       "      <td>...</td>\n",
       "      <td>11</td>\n",
       "      <td>Class 1: 6,000 lbs. or less (2,722 kg or less)</td>\n",
       "      <td>11</td>\n",
       "      <td>Class 1: 6,000 lbs. or less (2,722 kg or less)</td>\n",
       "      <td>77</td>\n",
       "      <td>No Trailing Units</td>\n",
       "      <td>77</td>\n",
       "      <td>No Trailing Units</td>\n",
       "      <td>77</td>\n",
       "      <td>No Trailing Units</td>\n",
       "    </tr>\n",
       "    <tr>\n",
       "      <th>35255</th>\n",
       "      <td>34</td>\n",
       "      <td>New Jersey</td>\n",
       "      <td>340003</td>\n",
       "      <td>2</td>\n",
       "      <td>2</td>\n",
       "      <td>1</td>\n",
       "      <td>01</td>\n",
       "      <td>27</td>\n",
       "      <td>27</td>\n",
       "      <td>1</td>\n",
       "      <td>...</td>\n",
       "      <td>18</td>\n",
       "      <td>Class 8: 33,001 lbs. and above (14,969 kg and ...</td>\n",
       "      <td>18</td>\n",
       "      <td>Class 8: 33,001 lbs. and above (14,969 kg and ...</td>\n",
       "      <td>98</td>\n",
       "      <td>Not Reported</td>\n",
       "      <td>77</td>\n",
       "      <td>No Trailing Units</td>\n",
       "      <td>77</td>\n",
       "      <td>No Trailing Units</td>\n",
       "    </tr>\n",
       "    <tr>\n",
       "      <th>...</th>\n",
       "      <td>...</td>\n",
       "      <td>...</td>\n",
       "      <td>...</td>\n",
       "      <td>...</td>\n",
       "      <td>...</td>\n",
       "      <td>...</td>\n",
       "      <td>...</td>\n",
       "      <td>...</td>\n",
       "      <td>...</td>\n",
       "      <td>...</td>\n",
       "      <td>...</td>\n",
       "      <td>...</td>\n",
       "      <td>...</td>\n",
       "      <td>...</td>\n",
       "      <td>...</td>\n",
       "      <td>...</td>\n",
       "      <td>...</td>\n",
       "      <td>...</td>\n",
       "      <td>...</td>\n",
       "      <td>...</td>\n",
       "      <td>...</td>\n",
       "    </tr>\n",
       "    <tr>\n",
       "      <th>36220</th>\n",
       "      <td>34</td>\n",
       "      <td>New Jersey</td>\n",
       "      <td>340680</td>\n",
       "      <td>1</td>\n",
       "      <td>1</td>\n",
       "      <td>99</td>\n",
       "      <td>Unknown</td>\n",
       "      <td>12</td>\n",
       "      <td>12</td>\n",
       "      <td>9</td>\n",
       "      <td>...</td>\n",
       "      <td>99</td>\n",
       "      <td>Reported as Unknown</td>\n",
       "      <td>99</td>\n",
       "      <td>Reported as Unknown</td>\n",
       "      <td>77</td>\n",
       "      <td>No Trailing Units</td>\n",
       "      <td>77</td>\n",
       "      <td>No Trailing Units</td>\n",
       "      <td>77</td>\n",
       "      <td>No Trailing Units</td>\n",
       "    </tr>\n",
       "    <tr>\n",
       "      <th>36221</th>\n",
       "      <td>34</td>\n",
       "      <td>New Jersey</td>\n",
       "      <td>340681</td>\n",
       "      <td>1</td>\n",
       "      <td>4</td>\n",
       "      <td>1</td>\n",
       "      <td>01</td>\n",
       "      <td>24</td>\n",
       "      <td>24</td>\n",
       "      <td>4</td>\n",
       "      <td>...</td>\n",
       "      <td>18</td>\n",
       "      <td>Class 8: 33,001 lbs. and above (14,969 kg and ...</td>\n",
       "      <td>18</td>\n",
       "      <td>Class 8: 33,001 lbs. and above (14,969 kg and ...</td>\n",
       "      <td>18</td>\n",
       "      <td>Class 8: 33,001 lbs and above (14,969 kg and a...</td>\n",
       "      <td>77</td>\n",
       "      <td>No Trailing Units</td>\n",
       "      <td>77</td>\n",
       "      <td>No Trailing Units</td>\n",
       "    </tr>\n",
       "    <tr>\n",
       "      <th>36222</th>\n",
       "      <td>34</td>\n",
       "      <td>New Jersey</td>\n",
       "      <td>340681</td>\n",
       "      <td>2</td>\n",
       "      <td>4</td>\n",
       "      <td>2</td>\n",
       "      <td>02</td>\n",
       "      <td>24</td>\n",
       "      <td>24</td>\n",
       "      <td>4</td>\n",
       "      <td>...</td>\n",
       "      <td>11</td>\n",
       "      <td>Class 1: 6,000 lbs. or less (2,722 kg or less)</td>\n",
       "      <td>11</td>\n",
       "      <td>Class 1: 6,000 lbs. or less (2,722 kg or less)</td>\n",
       "      <td>77</td>\n",
       "      <td>No Trailing Units</td>\n",
       "      <td>77</td>\n",
       "      <td>No Trailing Units</td>\n",
       "      <td>77</td>\n",
       "      <td>No Trailing Units</td>\n",
       "    </tr>\n",
       "    <tr>\n",
       "      <th>36223</th>\n",
       "      <td>34</td>\n",
       "      <td>New Jersey</td>\n",
       "      <td>340681</td>\n",
       "      <td>3</td>\n",
       "      <td>4</td>\n",
       "      <td>1</td>\n",
       "      <td>01</td>\n",
       "      <td>24</td>\n",
       "      <td>24</td>\n",
       "      <td>4</td>\n",
       "      <td>...</td>\n",
       "      <td>11</td>\n",
       "      <td>Class 1: 6,000 lbs. or less (2,722 kg or less)</td>\n",
       "      <td>11</td>\n",
       "      <td>Class 1: 6,000 lbs. or less (2,722 kg or less)</td>\n",
       "      <td>77</td>\n",
       "      <td>No Trailing Units</td>\n",
       "      <td>77</td>\n",
       "      <td>No Trailing Units</td>\n",
       "      <td>77</td>\n",
       "      <td>No Trailing Units</td>\n",
       "    </tr>\n",
       "    <tr>\n",
       "      <th>36224</th>\n",
       "      <td>34</td>\n",
       "      <td>New Jersey</td>\n",
       "      <td>340681</td>\n",
       "      <td>4</td>\n",
       "      <td>4</td>\n",
       "      <td>1</td>\n",
       "      <td>01</td>\n",
       "      <td>24</td>\n",
       "      <td>24</td>\n",
       "      <td>4</td>\n",
       "      <td>...</td>\n",
       "      <td>12</td>\n",
       "      <td>Class 2: 6,001 - 10,000 lbs. (2,722 - 4,536 kg)</td>\n",
       "      <td>12</td>\n",
       "      <td>Class 2: 6,001 - 10,000 lbs. (2,722 - 4,536 kg)</td>\n",
       "      <td>77</td>\n",
       "      <td>No Trailing Units</td>\n",
       "      <td>77</td>\n",
       "      <td>No Trailing Units</td>\n",
       "      <td>77</td>\n",
       "      <td>No Trailing Units</td>\n",
       "    </tr>\n",
       "  </tbody>\n",
       "</table>\n",
       "<p>974 rows × 201 columns</p>\n",
       "</div>"
      ],
      "text/plain": [
       "       STATE   STATENAME  ST_CASE  VEH_NO  VE_FORMS  NUMOCCS NUMOCCSNAME  DAY  \\\n",
       "35251     34  New Jersey   340001       1         2        1          01   31   \n",
       "35252     34  New Jersey   340001       2         2        1          01   31   \n",
       "35253     34  New Jersey   340002       1         1        1          01   31   \n",
       "35254     34  New Jersey   340003       1         2        1          01   27   \n",
       "35255     34  New Jersey   340003       2         2        1          01   27   \n",
       "...      ...         ...      ...     ...       ...      ...         ...  ...   \n",
       "36220     34  New Jersey   340680       1         1       99     Unknown   12   \n",
       "36221     34  New Jersey   340681       1         4        1          01   24   \n",
       "36222     34  New Jersey   340681       2         4        2          02   24   \n",
       "36223     34  New Jersey   340681       3         4        1          01   24   \n",
       "36224     34  New Jersey   340681       4         4        1          01   24   \n",
       "\n",
       "       DAYNAME  MONTH  ... GVWR_FROM  \\\n",
       "35251       31      1  ...        12   \n",
       "35252       31      1  ...        11   \n",
       "35253       31      1  ...        11   \n",
       "35254       27      1  ...        11   \n",
       "35255       27      1  ...        18   \n",
       "...        ...    ...  ...       ...   \n",
       "36220       12      9  ...        99   \n",
       "36221       24      4  ...        18   \n",
       "36222       24      4  ...        11   \n",
       "36223       24      4  ...        11   \n",
       "36224       24      4  ...        12   \n",
       "\n",
       "                                           GVWR_FROMNAME GVWR_TO  \\\n",
       "35251    Class 2: 6,001 - 10,000 lbs. (2,722 - 4,536 kg)      12   \n",
       "35252     Class 1: 6,000 lbs. or less (2,722 kg or less)      11   \n",
       "35253     Class 1: 6,000 lbs. or less (2,722 kg or less)      11   \n",
       "35254     Class 1: 6,000 lbs. or less (2,722 kg or less)      11   \n",
       "35255  Class 8: 33,001 lbs. and above (14,969 kg and ...      18   \n",
       "...                                                  ...     ...   \n",
       "36220                                Reported as Unknown      99   \n",
       "36221  Class 8: 33,001 lbs. and above (14,969 kg and ...      18   \n",
       "36222     Class 1: 6,000 lbs. or less (2,722 kg or less)      11   \n",
       "36223     Class 1: 6,000 lbs. or less (2,722 kg or less)      11   \n",
       "36224    Class 2: 6,001 - 10,000 lbs. (2,722 - 4,536 kg)      12   \n",
       "\n",
       "                                             GVWR_TONAME TRLR1GVWR  \\\n",
       "35251    Class 2: 6,001 - 10,000 lbs. (2,722 - 4,536 kg)        77   \n",
       "35252     Class 1: 6,000 lbs. or less (2,722 kg or less)        77   \n",
       "35253     Class 1: 6,000 lbs. or less (2,722 kg or less)        77   \n",
       "35254     Class 1: 6,000 lbs. or less (2,722 kg or less)        77   \n",
       "35255  Class 8: 33,001 lbs. and above (14,969 kg and ...        98   \n",
       "...                                                  ...       ...   \n",
       "36220                                Reported as Unknown        77   \n",
       "36221  Class 8: 33,001 lbs. and above (14,969 kg and ...        18   \n",
       "36222     Class 1: 6,000 lbs. or less (2,722 kg or less)        77   \n",
       "36223     Class 1: 6,000 lbs. or less (2,722 kg or less)        77   \n",
       "36224    Class 2: 6,001 - 10,000 lbs. (2,722 - 4,536 kg)        77   \n",
       "\n",
       "                                           TRLR1GVWRNAME TRLR2GVWR  \\\n",
       "35251                                  No Trailing Units        77   \n",
       "35252                                  No Trailing Units        77   \n",
       "35253                                  No Trailing Units        77   \n",
       "35254                                  No Trailing Units        77   \n",
       "35255                                       Not Reported        77   \n",
       "...                                                  ...       ...   \n",
       "36220                                  No Trailing Units        77   \n",
       "36221  Class 8: 33,001 lbs and above (14,969 kg and a...        77   \n",
       "36222                                  No Trailing Units        77   \n",
       "36223                                  No Trailing Units        77   \n",
       "36224                                  No Trailing Units        77   \n",
       "\n",
       "           TRLR2GVWRNAME TRLR3GVWR      TRLR3GVWRNAME  \n",
       "35251  No Trailing Units        77  No Trailing Units  \n",
       "35252  No Trailing Units        77  No Trailing Units  \n",
       "35253  No Trailing Units        77  No Trailing Units  \n",
       "35254  No Trailing Units        77  No Trailing Units  \n",
       "35255  No Trailing Units        77  No Trailing Units  \n",
       "...                  ...       ...                ...  \n",
       "36220  No Trailing Units        77  No Trailing Units  \n",
       "36221  No Trailing Units        77  No Trailing Units  \n",
       "36222  No Trailing Units        77  No Trailing Units  \n",
       "36223  No Trailing Units        77  No Trailing Units  \n",
       "36224  No Trailing Units        77  No Trailing Units  \n",
       "\n",
       "[974 rows x 201 columns]"
      ]
     },
     "execution_count": 144,
     "metadata": {},
     "output_type": "execute_result"
    }
   ],
   "source": [
    "vehicle_nj"
   ]
  },
  {
   "cell_type": "code",
   "execution_count": 145,
   "metadata": {},
   "outputs": [],
   "source": [
    "accident_nj_selected = accident_nj[['ST_CASE', 'COUNTYNAME', 'CITYNAME', 'ROUTE', 'RUR_URB', 'FUNC_SYS', 'LGT_COND', 'WEATHER', 'TYP_INT', 'LATITUDE', 'LONGITUD', 'FATALS']]\n",
    "drimpair_nj_selected = drimpair_nj[['ST_CASE', 'DRIMPAIR', 'DRIMPAIRNAME']]\n",
    "person_nj_selected = person_nj[['ST_CASE', 'AGE', 'SEX', 'INJ_SEV', 'INJ_SEVNAME']]\n",
    "vehicle_nj_selected = vehicle_nj[['ST_CASE', 'HARM_EVNAME', 'MAKENAME', 'MOD_YEAR']]\n",
    "weather_nj_selected = weather_nj[['ST_CASE', 'WEATHER', 'WEATHERNAME']]\n"
   ]
  },
  {
   "cell_type": "markdown",
   "metadata": {},
   "source": [
    "## Research Question 2"
   ]
  },
  {
   "cell_type": "code",
   "execution_count": 146,
   "metadata": {},
   "outputs": [],
   "source": [
    "# Merging accidents and impairment data\n",
    "accident_impair_merged = pd.merge(accident_nj_selected, drimpair_nj_selected, on='ST_CASE', how='inner')"
   ]
  },
  {
   "cell_type": "code",
   "execution_count": 147,
   "metadata": {},
   "outputs": [],
   "source": [
    "# Checking for missing values\n",
    "missing_values = accident_impair_merged.isnull().sum()\n"
   ]
  },
  {
   "cell_type": "code",
   "execution_count": 148,
   "metadata": {},
   "outputs": [
    {
     "data": {
      "text/plain": [
       "array(['None/Apparently Normal',\n",
       "       'Under the Influence of Alcohol, Drugs or Medication',\n",
       "       'Reported as Unknown if Impaired', 'Ill, Blackout',\n",
       "       'Asleep or Fatigued', 'Not Reported',\n",
       "       'Physical Impairment - No Details', 'Other Physical Impairment',\n",
       "       'No Driver Present/Unknown if Driver Present'], dtype=object)"
      ]
     },
     "execution_count": 148,
     "metadata": {},
     "output_type": "execute_result"
    }
   ],
   "source": [
    "# Finding the unique values of impairment\n",
    "accident_impair_merged['DRIMPAIRNAME'].unique()"
   ]
  },
  {
   "cell_type": "code",
   "execution_count": 149,
   "metadata": {},
   "outputs": [],
   "source": [
    "# Group by ST_CASE to count the number of occupants in each accident\n",
    "occupants_per_accident = accident_impair_merged.groupby('ST_CASE').size()\n",
    "\n",
    "# Merge the occupancy information back into the original dataframe\n",
    "merged_df = accident_impair_merged.merge(occupants_per_accident.rename('NUMOCC'), left_on='ST_CASE', right_index=True)\n"
   ]
  },
  {
   "cell_type": "code",
   "execution_count": 150,
   "metadata": {},
   "outputs": [
    {
     "data": {
      "image/png": "[encoded data removed]",
      "text/plain": [
       "<Figure size 1000x600 with 1 Axes>"
      ]
     },
     "metadata": {},
     "output_type": "display_data"
    }
   ],
   "source": [
    "#Use box plots and don't need severity\n",
    "# Define severity levels\n",
    "def get_severity(fatals):\n",
    "    if fatals == 0:\n",
    "        return 'Low'\n",
    "    elif fatals == 1:\n",
    "        return 'Moderate'\n",
    "    else:\n",
    "        return 'High'\n",
    "\n",
    "# new column for severity\n",
    "merged_df['Severity'] = merged_df['FATALS'].apply(get_severity)\n",
    "\n",
    "# Normalize fatalities by the number of occupants\n",
    "merged_df['Fatalities_Per_Occupant'] = merged_df['FATALS'] / merged_df['NUMOCC']\n",
    "\n",
    "# Define color palette for severity levels\n",
    "color = {'Low': 'blue', 'Moderate': 'orange', 'High': 'red'}\n",
    "\n",
    "plt.figure(figsize=(10, 6))\n",
    "sns.scatterplot(data=merged_df, x='DRIMPAIRNAME', y='Fatalities_Per_Occupant', hue='Severity', palette=color)\n",
    "plt.xlabel('Reported Driver Impairment')\n",
    "plt.ylabel('Fatalities per Occupant')\n",
    "plt.title('Scatter Plot of Reported Driver Impairment vs. Fatalities per Occupant')\n",
    "plt.xticks(rotation=45)\n",
    "\n",
    "# legend\n",
    "plt.legend(title='Severity')\n",
    "\n",
    "plt.show()\n"
   ]
  },
  {
   "cell_type": "code",
   "execution_count": 169,
   "metadata": {},
   "outputs": [
    {
     "data": {
      "image/png": "[encoded data removed]",
      "text/plain": [
       "<Figure size 1000x600 with 1 Axes>"
      ]
     },
     "metadata": {},
     "output_type": "display_data"
    }
   ],
   "source": [
    "import seaborn as sns\n",
    "import matplotlib.pyplot as plt\n",
    "\n",
    "# Group by ST_CASE to count the number of occupants in each accident\n",
    "occupants_per_accident = accident_impair_merged.groupby('ST_CASE').size()\n",
    "\n",
    "# Merge the occupancy information back into the original dataframe\n",
    "merged_df = accident_impair_merged.merge(occupants_per_accident.rename('NUMOCC'), left_on='ST_CASE', right_index=True)\n",
    "\n",
    "# Define severity levels\n",
    "def get_severity(fatals):\n",
    "    if fatals == 0:\n",
    "        return 'Low'\n",
    "    elif fatals == 1:\n",
    "        return 'Moderate'\n",
    "    else:\n",
    "        return 'High'\n",
    "\n",
    "# Create a new column for severity\n",
    "merged_df['Severity'] = merged_df['FATALS'].apply(get_severity)\n",
    "\n",
    "# Normalize fatalities by the number of occupants\n",
    "merged_df['Fatalities_Per_Occupant'] = merged_df['FATALS'] / merged_df['NUMOCC']\n",
    "\n",
    "# Define color palette for severity levels\n",
    "color = {'Low': 'blue', 'Moderate': 'orange', 'High': 'red'}\n",
    "\n",
    "plt.figure(figsize=(10, 6))\n",
    "\n",
    "# Create a box plot\n",
    "sns.boxplot(data=merged_df, x='DRIMPAIRNAME', y='Fatalities_Per_Occupant', hue='Severity', palette=color)\n",
    "plt.xlabel('Reported Driver Impairment')\n",
    "plt.ylabel('Fatalities per Occupant')\n",
    "plt.title('Box Plot of Reported Driver Impairment vs. Fatalities per Occupant')\n",
    "plt.xticks(rotation=45)\n",
    "\n",
    "# Add legend\n",
    "plt.legend(title='Severity')\n",
    "\n",
    "plt.show()\n"
   ]
  },
  {
   "cell_type": "code",
   "execution_count": 172,
   "metadata": {},
   "outputs": [
    {
     "data": {
      "image/png": "[encoded data removed]",
      "text/plain": [
       "<Figure size 1000x600 with 1 Axes>"
      ]
     },
     "metadata": {},
     "output_type": "display_data"
    }
   ],
   "source": [
    "plt.figure(figsize=(10, 6))\n",
    "sns.boxplot(data=merged_df, x='DRIMPAIRNAME', y='Fatalities_Per_Occupant')\n",
    "plt.xlabel('Reported Driver Impairment')\n",
    "plt.ylabel('Fatalities per Occupant')\n",
    "plt.title('Box Plot of Reported Driver Impairment vs. Fatalities per Occupant')\n",
    "plt.xticks(rotation=45)\n",
    "plt.show()\n",
    "\n"
   ]
  },
  {
   "cell_type": "markdown",
   "metadata": {},
   "source": [
    "I feel like other should be texting and driving"
   ]
  },
  {
   "cell_type": "code",
   "execution_count": 151,
   "metadata": {},
   "outputs": [
    {
     "name": "stdout",
     "output_type": "stream",
     "text": [
      "Correlation Coefficient: 0.04879681932340651\n"
     ]
    }
   ],
   "source": [
    "# correlation coefficient between DRIMPAIRNAME and FATALS\n",
    "correlation_coefficient = merged_df['DRIMPAIRNAME'].astype('category').cat.codes.corr(merged_df['FATALS'])\n",
    "print(\"Correlation Coefficient:\", correlation_coefficient)"
   ]
  },
  {
   "cell_type": "code",
   "execution_count": 152,
   "metadata": {},
   "outputs": [
    {
     "name": "stdout",
     "output_type": "stream",
     "text": [
      "Severity                                            High  Moderate\n",
      "DRIMPAIRNAME                                                      \n",
      "Asleep or Fatigued                                     0         6\n",
      "Ill, Blackout                                          0         7\n",
      "No Driver Present/Unknown if Driver Present            0         7\n",
      "None/Apparently Normal                                22       514\n",
      "Not Reported                                           4        25\n",
      "Other Physical Impairment                              0         5\n",
      "Physical Impairment - No Details                       0         4\n",
      "Reported as Unknown if Impaired                       21       298\n",
      "Under the Influence of Alcohol, Drugs or Medica...     3        59\n"
     ]
    }
   ],
   "source": [
    "# Create contingency table: shows frequencies\n",
    "contingency_table = pd.crosstab(merged_df['DRIMPAIRNAME'], merged_df['Severity'])\n",
    "\n",
    "# Display contingency table\n",
    "print(contingency_table)\n"
   ]
  },
  {
   "cell_type": "code",
   "execution_count": 153,
   "metadata": {},
   "outputs": [],
   "source": [
    "# Make Chi-square test"
   ]
  },
  {
   "cell_type": "markdown",
   "metadata": {},
   "source": [
    "# Research Question 3"
   ]
  },
  {
   "cell_type": "code",
   "execution_count": 154,
   "metadata": {},
   "outputs": [
    {
     "data": {
      "text/html": [
       "<div>\n",
       "<style scoped>\n",
       "    .dataframe tbody tr th:only-of-type {\n",
       "        vertical-align: middle;\n",
       "    }\n",
       "\n",
       "    .dataframe tbody tr th {\n",
       "        vertical-align: top;\n",
       "    }\n",
       "\n",
       "    .dataframe thead th {\n",
       "        text-align: right;\n",
       "    }\n",
       "</style>\n",
       "<table border=\"1\" class=\"dataframe\">\n",
       "  <thead>\n",
       "    <tr style=\"text-align: right;\">\n",
       "      <th></th>\n",
       "      <th>ST_CASE</th>\n",
       "      <th>HARM_EVNAME</th>\n",
       "      <th>MAKENAME</th>\n",
       "      <th>MOD_YEAR</th>\n",
       "    </tr>\n",
       "  </thead>\n",
       "  <tbody>\n",
       "    <tr>\n",
       "      <th>35251</th>\n",
       "      <td>340001</td>\n",
       "      <td>Motor Vehicle In-Transport</td>\n",
       "      <td>Ford</td>\n",
       "      <td>2002</td>\n",
       "    </tr>\n",
       "    <tr>\n",
       "      <th>35252</th>\n",
       "      <td>340001</td>\n",
       "      <td>Motor Vehicle In-Transport</td>\n",
       "      <td>Chevrolet</td>\n",
       "      <td>2016</td>\n",
       "    </tr>\n",
       "    <tr>\n",
       "      <th>35253</th>\n",
       "      <td>340002</td>\n",
       "      <td>Guardrail Face</td>\n",
       "      <td>Honda</td>\n",
       "      <td>2015</td>\n",
       "    </tr>\n",
       "    <tr>\n",
       "      <th>35254</th>\n",
       "      <td>340003</td>\n",
       "      <td>Motor Vehicle In-Transport</td>\n",
       "      <td>Lexus</td>\n",
       "      <td>2008</td>\n",
       "    </tr>\n",
       "    <tr>\n",
       "      <th>35255</th>\n",
       "      <td>340003</td>\n",
       "      <td>Motor Vehicle In-Transport</td>\n",
       "      <td>Volvo</td>\n",
       "      <td>2010</td>\n",
       "    </tr>\n",
       "    <tr>\n",
       "      <th>...</th>\n",
       "      <td>...</td>\n",
       "      <td>...</td>\n",
       "      <td>...</td>\n",
       "      <td>...</td>\n",
       "    </tr>\n",
       "    <tr>\n",
       "      <th>36220</th>\n",
       "      <td>340680</td>\n",
       "      <td>Pedestrian</td>\n",
       "      <td>Unknown Make</td>\n",
       "      <td>9999</td>\n",
       "    </tr>\n",
       "    <tr>\n",
       "      <th>36221</th>\n",
       "      <td>340681</td>\n",
       "      <td>Motor Vehicle In-Transport</td>\n",
       "      <td>Peterbilt</td>\n",
       "      <td>2011</td>\n",
       "    </tr>\n",
       "    <tr>\n",
       "      <th>36222</th>\n",
       "      <td>340681</td>\n",
       "      <td>Motor Vehicle In-Transport</td>\n",
       "      <td>Mazda</td>\n",
       "      <td>2018</td>\n",
       "    </tr>\n",
       "    <tr>\n",
       "      <th>36223</th>\n",
       "      <td>340681</td>\n",
       "      <td>Motor Vehicle In-Transport</td>\n",
       "      <td>Toyota</td>\n",
       "      <td>2016</td>\n",
       "    </tr>\n",
       "    <tr>\n",
       "      <th>36224</th>\n",
       "      <td>340681</td>\n",
       "      <td>Motor Vehicle In-Transport</td>\n",
       "      <td>Jeep / Kaiser-Jeep / Willys- Jeep</td>\n",
       "      <td>2011</td>\n",
       "    </tr>\n",
       "  </tbody>\n",
       "</table>\n",
       "<p>974 rows × 4 columns</p>\n",
       "</div>"
      ],
      "text/plain": [
       "       ST_CASE                 HARM_EVNAME                           MAKENAME  \\\n",
       "35251   340001  Motor Vehicle In-Transport                               Ford   \n",
       "35252   340001  Motor Vehicle In-Transport                          Chevrolet   \n",
       "35253   340002              Guardrail Face                              Honda   \n",
       "35254   340003  Motor Vehicle In-Transport                              Lexus   \n",
       "35255   340003  Motor Vehicle In-Transport                              Volvo   \n",
       "...        ...                         ...                                ...   \n",
       "36220   340680                  Pedestrian                       Unknown Make   \n",
       "36221   340681  Motor Vehicle In-Transport                          Peterbilt   \n",
       "36222   340681  Motor Vehicle In-Transport                              Mazda   \n",
       "36223   340681  Motor Vehicle In-Transport                             Toyota   \n",
       "36224   340681  Motor Vehicle In-Transport  Jeep / Kaiser-Jeep / Willys- Jeep   \n",
       "\n",
       "       MOD_YEAR  \n",
       "35251      2002  \n",
       "35252      2016  \n",
       "35253      2015  \n",
       "35254      2008  \n",
       "35255      2010  \n",
       "...         ...  \n",
       "36220      9999  \n",
       "36221      2011  \n",
       "36222      2018  \n",
       "36223      2016  \n",
       "36224      2011  \n",
       "\n",
       "[974 rows x 4 columns]"
      ]
     },
     "execution_count": 154,
     "metadata": {},
     "output_type": "execute_result"
    }
   ],
   "source": [
    "accident_nj_selected\n",
    "vehicle_nj_selected"
   ]
  },
  {
   "cell_type": "code",
   "execution_count": 155,
   "metadata": {},
   "outputs": [
    {
     "data": {
      "text/html": [
       "<div>\n",
       "<style scoped>\n",
       "    .dataframe tbody tr th:only-of-type {\n",
       "        vertical-align: middle;\n",
       "    }\n",
       "\n",
       "    .dataframe tbody tr th {\n",
       "        vertical-align: top;\n",
       "    }\n",
       "\n",
       "    .dataframe thead th {\n",
       "        text-align: right;\n",
       "    }\n",
       "</style>\n",
       "<table border=\"1\" class=\"dataframe\">\n",
       "  <thead>\n",
       "    <tr style=\"text-align: right;\">\n",
       "      <th></th>\n",
       "      <th>ST_CASE</th>\n",
       "      <th>COUNTYNAME</th>\n",
       "      <th>CITYNAME</th>\n",
       "      <th>ROUTE</th>\n",
       "      <th>RUR_URB</th>\n",
       "      <th>FUNC_SYS</th>\n",
       "      <th>LGT_COND</th>\n",
       "      <th>WEATHER</th>\n",
       "      <th>TYP_INT</th>\n",
       "      <th>LATITUDE</th>\n",
       "      <th>LONGITUD</th>\n",
       "      <th>FATALS</th>\n",
       "      <th>HARM_EVNAME</th>\n",
       "      <th>MAKENAME</th>\n",
       "      <th>MOD_YEAR</th>\n",
       "    </tr>\n",
       "  </thead>\n",
       "  <tbody>\n",
       "    <tr>\n",
       "      <th>0</th>\n",
       "      <td>340001</td>\n",
       "      <td>CAMDEN (7)</td>\n",
       "      <td>PENNSAUKEN</td>\n",
       "      <td>3</td>\n",
       "      <td>2</td>\n",
       "      <td>3</td>\n",
       "      <td>3</td>\n",
       "      <td>1</td>\n",
       "      <td>2</td>\n",
       "      <td>39.935622</td>\n",
       "      <td>-75.060711</td>\n",
       "      <td>1</td>\n",
       "      <td>Motor Vehicle In-Transport</td>\n",
       "      <td>Ford</td>\n",
       "      <td>2002</td>\n",
       "    </tr>\n",
       "    <tr>\n",
       "      <th>1</th>\n",
       "      <td>340001</td>\n",
       "      <td>CAMDEN (7)</td>\n",
       "      <td>PENNSAUKEN</td>\n",
       "      <td>3</td>\n",
       "      <td>2</td>\n",
       "      <td>3</td>\n",
       "      <td>3</td>\n",
       "      <td>1</td>\n",
       "      <td>2</td>\n",
       "      <td>39.935622</td>\n",
       "      <td>-75.060711</td>\n",
       "      <td>1</td>\n",
       "      <td>Motor Vehicle In-Transport</td>\n",
       "      <td>Chevrolet</td>\n",
       "      <td>2016</td>\n",
       "    </tr>\n",
       "    <tr>\n",
       "      <th>2</th>\n",
       "      <td>340002</td>\n",
       "      <td>GLOUCESTER (15)</td>\n",
       "      <td>WEST DEPTFORD</td>\n",
       "      <td>1</td>\n",
       "      <td>2</td>\n",
       "      <td>1</td>\n",
       "      <td>1</td>\n",
       "      <td>10</td>\n",
       "      <td>1</td>\n",
       "      <td>39.835994</td>\n",
       "      <td>-75.204128</td>\n",
       "      <td>1</td>\n",
       "      <td>Guardrail Face</td>\n",
       "      <td>Honda</td>\n",
       "      <td>2015</td>\n",
       "    </tr>\n",
       "    <tr>\n",
       "      <th>3</th>\n",
       "      <td>340003</td>\n",
       "      <td>SALEM (33)</td>\n",
       "      <td>NOT APPLICABLE</td>\n",
       "      <td>3</td>\n",
       "      <td>1</td>\n",
       "      <td>4</td>\n",
       "      <td>1</td>\n",
       "      <td>1</td>\n",
       "      <td>2</td>\n",
       "      <td>39.648711</td>\n",
       "      <td>-75.219792</td>\n",
       "      <td>1</td>\n",
       "      <td>Motor Vehicle In-Transport</td>\n",
       "      <td>Lexus</td>\n",
       "      <td>2008</td>\n",
       "    </tr>\n",
       "    <tr>\n",
       "      <th>4</th>\n",
       "      <td>340003</td>\n",
       "      <td>SALEM (33)</td>\n",
       "      <td>NOT APPLICABLE</td>\n",
       "      <td>3</td>\n",
       "      <td>1</td>\n",
       "      <td>4</td>\n",
       "      <td>1</td>\n",
       "      <td>1</td>\n",
       "      <td>2</td>\n",
       "      <td>39.648711</td>\n",
       "      <td>-75.219792</td>\n",
       "      <td>1</td>\n",
       "      <td>Motor Vehicle In-Transport</td>\n",
       "      <td>Volvo</td>\n",
       "      <td>2010</td>\n",
       "    </tr>\n",
       "    <tr>\n",
       "      <th>...</th>\n",
       "      <td>...</td>\n",
       "      <td>...</td>\n",
       "      <td>...</td>\n",
       "      <td>...</td>\n",
       "      <td>...</td>\n",
       "      <td>...</td>\n",
       "      <td>...</td>\n",
       "      <td>...</td>\n",
       "      <td>...</td>\n",
       "      <td>...</td>\n",
       "      <td>...</td>\n",
       "      <td>...</td>\n",
       "      <td>...</td>\n",
       "      <td>...</td>\n",
       "      <td>...</td>\n",
       "    </tr>\n",
       "    <tr>\n",
       "      <th>969</th>\n",
       "      <td>340680</td>\n",
       "      <td>ESSEX (13)</td>\n",
       "      <td>NEWARK</td>\n",
       "      <td>6</td>\n",
       "      <td>2</td>\n",
       "      <td>5</td>\n",
       "      <td>3</td>\n",
       "      <td>1</td>\n",
       "      <td>2</td>\n",
       "      <td>40.729772</td>\n",
       "      <td>-74.212519</td>\n",
       "      <td>1</td>\n",
       "      <td>Pedestrian</td>\n",
       "      <td>Unknown Make</td>\n",
       "      <td>9999</td>\n",
       "    </tr>\n",
       "    <tr>\n",
       "      <th>970</th>\n",
       "      <td>340681</td>\n",
       "      <td>MORRIS (27)</td>\n",
       "      <td>FLORHAM PARK</td>\n",
       "      <td>3</td>\n",
       "      <td>2</td>\n",
       "      <td>2</td>\n",
       "      <td>1</td>\n",
       "      <td>1</td>\n",
       "      <td>1</td>\n",
       "      <td>40.755206</td>\n",
       "      <td>-74.383014</td>\n",
       "      <td>1</td>\n",
       "      <td>Motor Vehicle In-Transport</td>\n",
       "      <td>Peterbilt</td>\n",
       "      <td>2011</td>\n",
       "    </tr>\n",
       "    <tr>\n",
       "      <th>971</th>\n",
       "      <td>340681</td>\n",
       "      <td>MORRIS (27)</td>\n",
       "      <td>FLORHAM PARK</td>\n",
       "      <td>3</td>\n",
       "      <td>2</td>\n",
       "      <td>2</td>\n",
       "      <td>1</td>\n",
       "      <td>1</td>\n",
       "      <td>1</td>\n",
       "      <td>40.755206</td>\n",
       "      <td>-74.383014</td>\n",
       "      <td>1</td>\n",
       "      <td>Motor Vehicle In-Transport</td>\n",
       "      <td>Mazda</td>\n",
       "      <td>2018</td>\n",
       "    </tr>\n",
       "    <tr>\n",
       "      <th>972</th>\n",
       "      <td>340681</td>\n",
       "      <td>MORRIS (27)</td>\n",
       "      <td>FLORHAM PARK</td>\n",
       "      <td>3</td>\n",
       "      <td>2</td>\n",
       "      <td>2</td>\n",
       "      <td>1</td>\n",
       "      <td>1</td>\n",
       "      <td>1</td>\n",
       "      <td>40.755206</td>\n",
       "      <td>-74.383014</td>\n",
       "      <td>1</td>\n",
       "      <td>Motor Vehicle In-Transport</td>\n",
       "      <td>Toyota</td>\n",
       "      <td>2016</td>\n",
       "    </tr>\n",
       "    <tr>\n",
       "      <th>973</th>\n",
       "      <td>340681</td>\n",
       "      <td>MORRIS (27)</td>\n",
       "      <td>FLORHAM PARK</td>\n",
       "      <td>3</td>\n",
       "      <td>2</td>\n",
       "      <td>2</td>\n",
       "      <td>1</td>\n",
       "      <td>1</td>\n",
       "      <td>1</td>\n",
       "      <td>40.755206</td>\n",
       "      <td>-74.383014</td>\n",
       "      <td>1</td>\n",
       "      <td>Motor Vehicle In-Transport</td>\n",
       "      <td>Jeep / Kaiser-Jeep / Willys- Jeep</td>\n",
       "      <td>2011</td>\n",
       "    </tr>\n",
       "  </tbody>\n",
       "</table>\n",
       "<p>974 rows × 15 columns</p>\n",
       "</div>"
      ],
      "text/plain": [
       "     ST_CASE       COUNTYNAME        CITYNAME  ROUTE  RUR_URB  FUNC_SYS  \\\n",
       "0     340001       CAMDEN (7)      PENNSAUKEN      3        2         3   \n",
       "1     340001       CAMDEN (7)      PENNSAUKEN      3        2         3   \n",
       "2     340002  GLOUCESTER (15)   WEST DEPTFORD      1        2         1   \n",
       "3     340003       SALEM (33)  NOT APPLICABLE      3        1         4   \n",
       "4     340003       SALEM (33)  NOT APPLICABLE      3        1         4   \n",
       "..       ...              ...             ...    ...      ...       ...   \n",
       "969   340680       ESSEX (13)          NEWARK      6        2         5   \n",
       "970   340681      MORRIS (27)    FLORHAM PARK      3        2         2   \n",
       "971   340681      MORRIS (27)    FLORHAM PARK      3        2         2   \n",
       "972   340681      MORRIS (27)    FLORHAM PARK      3        2         2   \n",
       "973   340681      MORRIS (27)    FLORHAM PARK      3        2         2   \n",
       "\n",
       "     LGT_COND  WEATHER  TYP_INT   LATITUDE   LONGITUD  FATALS  \\\n",
       "0           3        1        2  39.935622 -75.060711       1   \n",
       "1           3        1        2  39.935622 -75.060711       1   \n",
       "2           1       10        1  39.835994 -75.204128       1   \n",
       "3           1        1        2  39.648711 -75.219792       1   \n",
       "4           1        1        2  39.648711 -75.219792       1   \n",
       "..        ...      ...      ...        ...        ...     ...   \n",
       "969         3        1        2  40.729772 -74.212519       1   \n",
       "970         1        1        1  40.755206 -74.383014       1   \n",
       "971         1        1        1  40.755206 -74.383014       1   \n",
       "972         1        1        1  40.755206 -74.383014       1   \n",
       "973         1        1        1  40.755206 -74.383014       1   \n",
       "\n",
       "                    HARM_EVNAME                           MAKENAME  MOD_YEAR  \n",
       "0    Motor Vehicle In-Transport                               Ford      2002  \n",
       "1    Motor Vehicle In-Transport                          Chevrolet      2016  \n",
       "2                Guardrail Face                              Honda      2015  \n",
       "3    Motor Vehicle In-Transport                              Lexus      2008  \n",
       "4    Motor Vehicle In-Transport                              Volvo      2010  \n",
       "..                          ...                                ...       ...  \n",
       "969                  Pedestrian                       Unknown Make      9999  \n",
       "970  Motor Vehicle In-Transport                          Peterbilt      2011  \n",
       "971  Motor Vehicle In-Transport                              Mazda      2018  \n",
       "972  Motor Vehicle In-Transport                             Toyota      2016  \n",
       "973  Motor Vehicle In-Transport  Jeep / Kaiser-Jeep / Willys- Jeep      2011  \n",
       "\n",
       "[974 rows x 15 columns]"
      ]
     },
     "execution_count": 155,
     "metadata": {},
     "output_type": "execute_result"
    }
   ],
   "source": [
    "# Assuming 'ST_CASE' is the common column between accidents_nj_selected and vehicle_nj_selected DataFrames\n",
    "accident_vehicle_merged = pd.merge(accident_nj_selected, vehicle_nj_selected, on='ST_CASE', how='inner')\n",
    "accident_vehicle_merged"
   ]
  },
  {
   "cell_type": "code",
   "execution_count": 156,
   "metadata": {},
   "outputs": [
    {
     "data": {
      "text/plain": [
       "ST_CASE        0\n",
       "COUNTYNAME     0\n",
       "CITYNAME       0\n",
       "ROUTE          0\n",
       "RUR_URB        0\n",
       "FUNC_SYS       0\n",
       "LGT_COND       0\n",
       "WEATHER        0\n",
       "TYP_INT        0\n",
       "LATITUDE       0\n",
       "LONGITUD       0\n",
       "FATALS         0\n",
       "HARM_EVNAME    0\n",
       "MAKENAME       0\n",
       "MOD_YEAR       0\n",
       "dtype: int64"
      ]
     },
     "execution_count": 156,
     "metadata": {},
     "output_type": "execute_result"
    }
   ],
   "source": [
    "# Checking for missing values\n",
    "missing_values = accident_vehicle_merged.isnull().sum()\n",
    "missing_values\n"
   ]
  },
  {
   "cell_type": "code",
   "execution_count": 164,
   "metadata": {},
   "outputs": [
    {
     "data": {
      "image/png": "[encoded data removed]",
      "text/plain": [
       "<Figure size 1200x600 with 1 Axes>"
      ]
     },
     "metadata": {},
     "output_type": "display_data"
    }
   ],
   "source": [
    "#Filter the fatalities where accident is consider fatal if more than 0 fatals reported\n",
    "fatal_accidents_df = accident_vehicle_merged[accident_vehicle_merged['FATALS'] > 0]\n",
    "\n",
    "# Group by Vehicle Make and Fatals\n",
    "grouped_df = fatal_accidents_df.groupby('MAKENAME')['FATALS'].sum().reset_index()\n",
    "\n",
    "# Calculate Involvement Rates\n",
    "total_fatalities = grouped_df['FATALS'].sum()\n",
    "grouped_df['Involvement Rate'] = grouped_df['FATALS'] / total_fatalities\n",
    "grouped_df = grouped_df.sort_values(by='FATALS', ascending=False)\n",
    "\n",
    "# Visualize with Stacked Bar Graph\n",
    "plt.figure(figsize=(12, 6))\n",
    "plt.bar(grouped_df['MAKENAME'], grouped_df['FATALS'], label='Total Fatal Accidents')\n",
    "plt.xlabel('Vehicle Make')\n",
    "plt.ylabel('Number of Fatal Accidents')\n",
    "plt.title('Total Fatal Accidents by Vehicle Make')\n",
    "plt.xticks(rotation=90)\n",
    "plt.legend()\n",
    "plt.tight_layout()\n",
    "plt.show()\n",
    "\n"
   ]
  },
  {
   "cell_type": "code",
   "execution_count": 158,
   "metadata": {},
   "outputs": [
    {
     "name": "stdout",
     "output_type": "stream",
     "text": [
      "Number of unique years: [1983, 1987, 1990, 1992, 1993, 1994, 1995, 1996, 1997, 1998, 1999, 2000, 2001, 2002, 2003, 2004, 2005, 2006, 2007, 2008, 2009, 2010, 2011, 2012, 2013, 2014, 2015, 2016, 2017, 2018, 2019, 2020, 2021, 2022, 9998, 9999]\n"
     ]
    }
   ],
   "source": [
    "unique_years = sorted(accident_vehicle_merged['MOD_YEAR'].unique())\n",
    "print(\"Number of unique years:\", unique_years)"
   ]
  },
  {
   "cell_type": "code",
   "execution_count": 165,
   "metadata": {},
   "outputs": [
    {
     "data": {
      "application/vnd.plotly.v1+json": {
       "config": {
        "plotlyServerURL": "https://plot.ly"
       },
       "data": [
        {
         "marker": {
          "color": "#6699CC"
         },
         "type": "bar",
         "x": [
          1983,
          1987,
          1990,
          1992,
          1993,
          1994,
          1995,
          1996,
          1997,
          1998,
          1999,
          2000,
          2001,
          2002,
          2003,
          2004,
          2005,
          2006,
          2007,
          2008,
          2009,
          2010,
          2011,
          2012,
          2013,
          2014,
          2015,
          2016,
          2017,
          2018,
          2019,
          2020,
          2021
         ],
         "y": [
          1,
          5,
          1,
          1,
          2,
          3,
          1,
          5,
          6,
          7,
          11,
          14,
          27,
          23,
          16,
          45,
          40,
          36,
          45,
          42,
          24,
          33,
          44,
          41,
          45,
          47,
          71,
          45,
          73,
          65,
          54,
          61,
          47
         ]
        }
       ],
       "layout": {
        "template": {
         "data": {
          "bar": [
           {
            "error_x": {
             "color": "#2a3f5f"
            },
            "error_y": {
             "color": "#2a3f5f"
            },
            "marker": {
             "line": {
              "color": "#E5ECF6",
              "width": 0.5
             },
             "pattern": {
              "fillmode": "overlay",
              "size": 10,
              "solidity": 0.2
             }
            },
            "type": "bar"
           }
          ],
          "barpolar": [
           {
            "marker": {
             "line": {
              "color": "#E5ECF6",
              "width": 0.5
             },
             "pattern": {
              "fillmode": "overlay",
              "size": 10,
              "solidity": 0.2
             }
            },
            "type": "barpolar"
           }
          ],
          "carpet": [
           {
            "aaxis": {
             "endlinecolor": "#2a3f5f",
             "gridcolor": "white",
             "linecolor": "white",
             "minorgridcolor": "white",
             "startlinecolor": "#2a3f5f"
            },
            "baxis": {
             "endlinecolor": "#2a3f5f",
             "gridcolor": "white",
             "linecolor": "white",
             "minorgridcolor": "white",
             "startlinecolor": "#2a3f5f"
            },
            "type": "carpet"
           }
          ],
          "choropleth": [
           {
            "colorbar": {
             "outlinewidth": 0,
             "ticks": ""
            },
            "type": "choropleth"
           }
          ],
          "contour": [
           {
            "colorbar": {
             "outlinewidth": 0,
             "ticks": ""
            },
            "colorscale": [
             [
              0,
              "#0d0887"
             ],
             [
              0.1111111111111111,
              "#46039f"
             ],
             [
              0.2222222222222222,
              "#7201a8"
             ],
             [
              0.3333333333333333,
              "#9c179e"
             ],
             [
              0.4444444444444444,
              "#bd3786"
             ],
             [
              0.5555555555555556,
              "#d8576b"
             ],
             [
              0.6666666666666666,
              "#ed7953"
             ],
             [
              0.7777777777777778,
              "#fb9f3a"
             ],
             [
              0.8888888888888888,
              "#fdca26"
             ],
             [
              1,
              "#f0f921"
             ]
            ],
            "type": "contour"
           }
          ],
          "contourcarpet": [
           {
            "colorbar": {
             "outlinewidth": 0,
             "ticks": ""
            },
            "type": "contourcarpet"
           }
          ],
          "heatmap": [
           {
            "colorbar": {
             "outlinewidth": 0,
             "ticks": ""
            },
            "colorscale": [
             [
              0,
              "#0d0887"
             ],
             [
              0.1111111111111111,
              "#46039f"
             ],
             [
              0.2222222222222222,
              "#7201a8"
             ],
             [
              0.3333333333333333,
              "#9c179e"
             ],
             [
              0.4444444444444444,
              "#bd3786"
             ],
             [
              0.5555555555555556,
              "#d8576b"
             ],
             [
              0.6666666666666666,
              "#ed7953"
             ],
             [
              0.7777777777777778,
              "#fb9f3a"
             ],
             [
              0.8888888888888888,
              "#fdca26"
             ],
             [
              1,
              "#f0f921"
             ]
            ],
            "type": "heatmap"
           }
          ],
          "heatmapgl": [
           {
            "colorbar": {
             "outlinewidth": 0,
             "ticks": ""
            },
            "colorscale": [
             [
              0,
              "#0d0887"
             ],
             [
              0.1111111111111111,
              "#46039f"
             ],
             [
              0.2222222222222222,
              "#7201a8"
             ],
             [
              0.3333333333333333,
              "#9c179e"
             ],
             [
              0.4444444444444444,
              "#bd3786"
             ],
             [
              0.5555555555555556,
              "#d8576b"
             ],
             [
              0.6666666666666666,
              "#ed7953"
             ],
             [
              0.7777777777777778,
              "#fb9f3a"
             ],
             [
              0.8888888888888888,
              "#fdca26"
             ],
             [
              1,
              "#f0f921"
             ]
            ],
            "type": "heatmapgl"
           }
          ],
          "histogram": [
           {
            "marker": {
             "pattern": {
              "fillmode": "overlay",
              "size": 10,
              "solidity": 0.2
             }
            },
            "type": "histogram"
           }
          ],
          "histogram2d": [
           {
            "colorbar": {
             "outlinewidth": 0,
             "ticks": ""
            },
            "colorscale": [
             [
              0,
              "#0d0887"
             ],
             [
              0.1111111111111111,
              "#46039f"
             ],
             [
              0.2222222222222222,
              "#7201a8"
             ],
             [
              0.3333333333333333,
              "#9c179e"
             ],
             [
              0.4444444444444444,
              "#bd3786"
             ],
             [
              0.5555555555555556,
              "#d8576b"
             ],
             [
              0.6666666666666666,
              "#ed7953"
             ],
             [
              0.7777777777777778,
              "#fb9f3a"
             ],
             [
              0.8888888888888888,
              "#fdca26"
             ],
             [
              1,
              "#f0f921"
             ]
            ],
            "type": "histogram2d"
           }
          ],
          "histogram2dcontour": [
           {
            "colorbar": {
             "outlinewidth": 0,
             "ticks": ""
            },
            "colorscale": [
             [
              0,
              "#0d0887"
             ],
             [
              0.1111111111111111,
              "#46039f"
             ],
             [
              0.2222222222222222,
              "#7201a8"
             ],
             [
              0.3333333333333333,
              "#9c179e"
             ],
             [
              0.4444444444444444,
              "#bd3786"
             ],
             [
              0.5555555555555556,
              "#d8576b"
             ],
             [
              0.6666666666666666,
              "#ed7953"
             ],
             [
              0.7777777777777778,
              "#fb9f3a"
             ],
             [
              0.8888888888888888,
              "#fdca26"
             ],
             [
              1,
              "#f0f921"
             ]
            ],
            "type": "histogram2dcontour"
           }
          ],
          "mesh3d": [
           {
            "colorbar": {
             "outlinewidth": 0,
             "ticks": ""
            },
            "type": "mesh3d"
           }
          ],
          "parcoords": [
           {
            "line": {
             "colorbar": {
              "outlinewidth": 0,
              "ticks": ""
             }
            },
            "type": "parcoords"
           }
          ],
          "pie": [
           {
            "automargin": true,
            "type": "pie"
           }
          ],
          "scatter": [
           {
            "fillpattern": {
             "fillmode": "overlay",
             "size": 10,
             "solidity": 0.2
            },
            "type": "scatter"
           }
          ],
          "scatter3d": [
           {
            "line": {
             "colorbar": {
              "outlinewidth": 0,
              "ticks": ""
             }
            },
            "marker": {
             "colorbar": {
              "outlinewidth": 0,
              "ticks": ""
             }
            },
            "type": "scatter3d"
           }
          ],
          "scattercarpet": [
           {
            "marker": {
             "colorbar": {
              "outlinewidth": 0,
              "ticks": ""
             }
            },
            "type": "scattercarpet"
           }
          ],
          "scattergeo": [
           {
            "marker": {
             "colorbar": {
              "outlinewidth": 0,
              "ticks": ""
             }
            },
            "type": "scattergeo"
           }
          ],
          "scattergl": [
           {
            "marker": {
             "colorbar": {
              "outlinewidth": 0,
              "ticks": ""
             }
            },
            "type": "scattergl"
           }
          ],
          "scattermapbox": [
           {
            "marker": {
             "colorbar": {
              "outlinewidth": 0,
              "ticks": ""
             }
            },
            "type": "scattermapbox"
           }
          ],
          "scatterpolar": [
           {
            "marker": {
             "colorbar": {
              "outlinewidth": 0,
              "ticks": ""
             }
            },
            "type": "scatterpolar"
           }
          ],
          "scatterpolargl": [
           {
            "marker": {
             "colorbar": {
              "outlinewidth": 0,
              "ticks": ""
             }
            },
            "type": "scatterpolargl"
           }
          ],
          "scatterternary": [
           {
            "marker": {
             "colorbar": {
              "outlinewidth": 0,
              "ticks": ""
             }
            },
            "type": "scatterternary"
           }
          ],
          "surface": [
           {
            "colorbar": {
             "outlinewidth": 0,
             "ticks": ""
            },
            "colorscale": [
             [
              0,
              "#0d0887"
             ],
             [
              0.1111111111111111,
              "#46039f"
             ],
             [
              0.2222222222222222,
              "#7201a8"
             ],
             [
              0.3333333333333333,
              "#9c179e"
             ],
             [
              0.4444444444444444,
              "#bd3786"
             ],
             [
              0.5555555555555556,
              "#d8576b"
             ],
             [
              0.6666666666666666,
              "#ed7953"
             ],
             [
              0.7777777777777778,
              "#fb9f3a"
             ],
             [
              0.8888888888888888,
              "#fdca26"
             ],
             [
              1,
              "#f0f921"
             ]
            ],
            "type": "surface"
           }
          ],
          "table": [
           {
            "cells": {
             "fill": {
              "color": "#EBF0F8"
             },
             "line": {
              "color": "white"
             }
            },
            "header": {
             "fill": {
              "color": "#C8D4E3"
             },
             "line": {
              "color": "white"
             }
            },
            "type": "table"
           }
          ]
         },
         "layout": {
          "annotationdefaults": {
           "arrowcolor": "#2a3f5f",
           "arrowhead": 0,
           "arrowwidth": 1
          },
          "autotypenumbers": "strict",
          "coloraxis": {
           "colorbar": {
            "outlinewidth": 0,
            "ticks": ""
           }
          },
          "colorscale": {
           "diverging": [
            [
             0,
             "#8e0152"
            ],
            [
             0.1,
             "#c51b7d"
            ],
            [
             0.2,
             "#de77ae"
            ],
            [
             0.3,
             "#f1b6da"
            ],
            [
             0.4,
             "#fde0ef"
            ],
            [
             0.5,
             "#f7f7f7"
            ],
            [
             0.6,
             "#e6f5d0"
            ],
            [
             0.7,
             "#b8e186"
            ],
            [
             0.8,
             "#7fbc41"
            ],
            [
             0.9,
             "#4d9221"
            ],
            [
             1,
             "#276419"
            ]
           ],
           "sequential": [
            [
             0,
             "#0d0887"
            ],
            [
             0.1111111111111111,
             "#46039f"
            ],
            [
             0.2222222222222222,
             "#7201a8"
            ],
            [
             0.3333333333333333,
             "#9c179e"
            ],
            [
             0.4444444444444444,
             "#bd3786"
            ],
            [
             0.5555555555555556,
             "#d8576b"
            ],
            [
             0.6666666666666666,
             "#ed7953"
            ],
            [
             0.7777777777777778,
             "#fb9f3a"
            ],
            [
             0.8888888888888888,
             "#fdca26"
            ],
            [
             1,
             "#f0f921"
            ]
           ],
           "sequentialminus": [
            [
             0,
             "#0d0887"
            ],
            [
             0.1111111111111111,
             "#46039f"
            ],
            [
             0.2222222222222222,
             "#7201a8"
            ],
            [
             0.3333333333333333,
             "#9c179e"
            ],
            [
             0.4444444444444444,
             "#bd3786"
            ],
            [
             0.5555555555555556,
             "#d8576b"
            ],
            [
             0.6666666666666666,
             "#ed7953"
            ],
            [
             0.7777777777777778,
             "#fb9f3a"
            ],
            [
             0.8888888888888888,
             "#fdca26"
            ],
            [
             1,
             "#f0f921"
            ]
           ]
          },
          "colorway": [
           "#636efa",
           "#EF553B",
           "#00cc96",
           "#ab63fa",
           "#FFA15A",
           "#19d3f3",
           "#FF6692",
           "#B6E880",
           "#FF97FF",
           "#FECB52"
          ],
          "font": {
           "color": "#2a3f5f"
          },
          "geo": {
           "bgcolor": "white",
           "lakecolor": "white",
           "landcolor": "#E5ECF6",
           "showlakes": true,
           "showland": true,
           "subunitcolor": "white"
          },
          "hoverlabel": {
           "align": "left"
          },
          "hovermode": "closest",
          "mapbox": {
           "style": "light"
          },
          "paper_bgcolor": "white",
          "plot_bgcolor": "#E5ECF6",
          "polar": {
           "angularaxis": {
            "gridcolor": "white",
            "linecolor": "white",
            "ticks": ""
           },
           "bgcolor": "#E5ECF6",
           "radialaxis": {
            "gridcolor": "white",
            "linecolor": "white",
            "ticks": ""
           }
          },
          "scene": {
           "xaxis": {
            "backgroundcolor": "#E5ECF6",
            "gridcolor": "white",
            "gridwidth": 2,
            "linecolor": "white",
            "showbackground": true,
            "ticks": "",
            "zerolinecolor": "white"
           },
           "yaxis": {
            "backgroundcolor": "#E5ECF6",
            "gridcolor": "white",
            "gridwidth": 2,
            "linecolor": "white",
            "showbackground": true,
            "ticks": "",
            "zerolinecolor": "white"
           },
           "zaxis": {
            "backgroundcolor": "#E5ECF6",
            "gridcolor": "white",
            "gridwidth": 2,
            "linecolor": "white",
            "showbackground": true,
            "ticks": "",
            "zerolinecolor": "white"
           }
          },
          "shapedefaults": {
           "line": {
            "color": "#2a3f5f"
           }
          },
          "ternary": {
           "aaxis": {
            "gridcolor": "white",
            "linecolor": "white",
            "ticks": ""
           },
           "baxis": {
            "gridcolor": "white",
            "linecolor": "white",
            "ticks": ""
           },
           "bgcolor": "#E5ECF6",
           "caxis": {
            "gridcolor": "white",
            "linecolor": "white",
            "ticks": ""
           }
          },
          "title": {
           "x": 0.05
          },
          "xaxis": {
           "automargin": true,
           "gridcolor": "white",
           "linecolor": "white",
           "ticks": "",
           "title": {
            "standoff": 15
           },
           "zerolinecolor": "white",
           "zerolinewidth": 2
          },
          "yaxis": {
           "automargin": true,
           "gridcolor": "white",
           "linecolor": "white",
           "ticks": "",
           "title": {
            "standoff": 15
           },
           "zerolinecolor": "white",
           "zerolinewidth": 2
          }
         }
        },
        "title": {
         "text": "Total Fatal Accidents by Model Year"
        },
        "xaxis": {
         "tickangle": -45,
         "title": {
          "text": "Model Year"
         }
        },
        "yaxis": {
         "title": {
          "text": "Number of Fatal Accidents"
         }
        }
       }
      }
     },
     "metadata": {},
     "output_type": "display_data"
    }
   ],
   "source": [
    "\n",
    "# Filter the years to include only those in the range of 1983 to 2021\n",
    "fatal_accidents_df = fatal_accidents_df[fatal_accidents_df['MOD_YEAR'].between(1983, 2021)]\n",
    "\n",
    "# Group by Vehicle Make and Fatals\n",
    "modyear_grouped_df = fatal_accidents_df.groupby('MOD_YEAR')['FATALS'].sum().reset_index()\n",
    "\n",
    "# Create an interactive bar graph using Plotly\n",
    "fig = go.Figure(data=[go.Bar(x=modyear_grouped_df['MOD_YEAR'], y=modyear_grouped_df['FATALS'], \n",
    "                             marker_color='#6699CC')])\n",
    "fig.update_layout(title='Total Fatal Accidents by Model Year',\n",
    "                  xaxis_title='Model Year',\n",
    "                  yaxis_title='Number of Fatal Accidents',\n",
    "                  xaxis_tickangle=-45)\n",
    "fig.show()\n"
   ]
  },
  {
   "cell_type": "markdown",
   "metadata": {},
   "source": [
    "## Research Question 4"
   ]
  },
  {
   "cell_type": "code",
   "execution_count": 161,
   "metadata": {},
   "outputs": [],
   "source": [
    "# Make the x line up\n",
    "# Filter out rows with values other than 1 and 2 in the RUR_URB column\n",
    "filtered_data = accident_nj[accident_nj['RUR_URB'].isin([1, 2])]"
   ]
  },
  {
   "cell_type": "code",
   "execution_count": 166,
   "metadata": {},
   "outputs": [
    {
     "name": "stderr",
     "output_type": "stream",
     "text": [
      "C:\\Users\\saiha\\AppData\\Local\\Temp\\ipykernel_19800\\36658281.py:23: UserWarning:\n",
      "\n",
      "set_ticklabels() should only be used with a fixed number of ticks, i.e. after set_ticks() or using a FixedLocator.\n",
      "\n"
     ]
    },
    {
     "data": {
      "image/png": "[encoded data removed]",
      "text/plain": [
       "<Figure size 1200x800 with 1 Axes>"
      ]
     },
     "metadata": {},
     "output_type": "display_data"
    }
   ],
   "source": [
    "# Creates a grouped bar graph for numbers of accidents that took place in each road type grouped by rural and urban areas\n",
    "# Group the data by urban/rural and road type and compute the total accidents for each group\n",
    "grouped_data = filtered_data.groupby(['FUNC_SYSNAME', 'RUR_URB']).size().unstack(fill_value=0)\n",
    "\n",
    "# Plotting the grouped bar plot\n",
    "fig, ax = plt.subplots(figsize=(12, 8))\n",
    "\n",
    "# Bar width\n",
    "bar_width = 0.35\n",
    "\n",
    "# Define the x locations for the groups\n",
    "index = range(len(grouped_data.index))\n",
    "\n",
    "# Plotting the bars for urban and rural areas side by side\n",
    "urban_bars = ax.bar(index, grouped_data[1], bar_width, label='Urban')\n",
    "rural_bars = ax.bar([i + bar_width for i in index], grouped_data[2], bar_width, label='Rural')\n",
    "\n",
    "# Add labels, title, and legend\n",
    "ax.set_xlabel('Functional System')\n",
    "ax.set_ylabel('Number of Accidents')\n",
    "ax.set_title('Total Number of Accidents by Road Type and Urban/Rural Areas')\n",
    "#ax.set_xticks([i + bar_width / 2 for i in index])\n",
    "ax.set_xticklabels(grouped_data.index)\n",
    "ax.legend()\n",
    "\n",
    "# Add a key for urban/rural areas\n",
    "plt.legend(title='Urban/Rural')\n",
    "\n",
    "# Show plot\n",
    "plt.xticks(rotation=45)\n",
    "plt.tight_layout()\n",
    "plt.show()\n"
   ]
  },
  {
   "cell_type": "code",
   "execution_count": 163,
   "metadata": {},
   "outputs": [
    {
     "name": "stderr",
     "output_type": "stream",
     "text": [
      "c:\\Users\\saiha\\anaconda3\\envs\\capstone\\Lib\\site-packages\\plotly\\express\\_core.py:2065: FutureWarning:\n",
      "\n",
      "When grouping with a length-1 list-like, you will need to pass a length-1 tuple to get_group in a future version of pandas. Pass `(name,)` instead of `name` to silence this warning.\n",
      "\n"
     ]
    },
    {
     "data": {
      "application/vnd.plotly.v1+json": {
       "config": {
        "plotlyServerURL": "https://plot.ly"
       },
       "data": [
        {
         "alignmentgroup": "True",
         "hovertemplate": "Urban/Rural=1<br>Functional System=%{x}<br>Number of Accidents=%{y}<extra></extra>",
         "legendgroup": "1",
         "marker": {
          "color": "#636efa",
          "pattern": {
           "shape": ""
          }
         },
         "name": "1",
         "offsetgroup": "1",
         "orientation": "v",
         "showlegend": true,
         "textposition": "auto",
         "type": "bar",
         "x": [
          "Interstate",
          "Local",
          "Major Collector",
          "Minor Arterial",
          "Minor Collector",
          "Not Reported",
          "Principal Arterial - Other",
          "Principal Arterial - Other Freeways and Expressways"
         ],
         "xaxis": "x",
         "y": [
          7,
          14,
          14,
          7,
          2,
          0,
          13,
          4
         ],
         "yaxis": "y"
        },
        {
         "alignmentgroup": "True",
         "hovertemplate": "Urban/Rural=2<br>Functional System=%{x}<br>Number of Accidents=%{y}<extra></extra>",
         "legendgroup": "2",
         "marker": {
          "color": "#EF553B",
          "pattern": {
           "shape": ""
          }
         },
         "name": "2",
         "offsetgroup": "2",
         "orientation": "v",
         "showlegend": true,
         "textposition": "auto",
         "type": "bar",
         "x": [
          "Interstate",
          "Local",
          "Major Collector",
          "Minor Arterial",
          "Minor Collector",
          "Not Reported",
          "Principal Arterial - Other",
          "Principal Arterial - Other Freeways and Expressways"
         ],
         "xaxis": "x",
         "y": [
          67,
          52,
          52,
          124,
          3,
          1,
          217,
          77
         ],
         "yaxis": "y"
        }
       ],
       "layout": {
        "barmode": "group",
        "legend": {
         "title": {
          "text": "Urban/Rural"
         },
         "tracegroupgap": 0
        },
        "template": {
         "data": {
          "bar": [
           {
            "error_x": {
             "color": "#2a3f5f"
            },
            "error_y": {
             "color": "#2a3f5f"
            },
            "marker": {
             "line": {
              "color": "#E5ECF6",
              "width": 0.5
             },
             "pattern": {
              "fillmode": "overlay",
              "size": 10,
              "solidity": 0.2
             }
            },
            "type": "bar"
           }
          ],
          "barpolar": [
           {
            "marker": {
             "line": {
              "color": "#E5ECF6",
              "width": 0.5
             },
             "pattern": {
              "fillmode": "overlay",
              "size": 10,
              "solidity": 0.2
             }
            },
            "type": "barpolar"
           }
          ],
          "carpet": [
           {
            "aaxis": {
             "endlinecolor": "#2a3f5f",
             "gridcolor": "white",
             "linecolor": "white",
             "minorgridcolor": "white",
             "startlinecolor": "#2a3f5f"
            },
            "baxis": {
             "endlinecolor": "#2a3f5f",
             "gridcolor": "white",
             "linecolor": "white",
             "minorgridcolor": "white",
             "startlinecolor": "#2a3f5f"
            },
            "type": "carpet"
           }
          ],
          "choropleth": [
           {
            "colorbar": {
             "outlinewidth": 0,
             "ticks": ""
            },
            "type": "choropleth"
           }
          ],
          "contour": [
           {
            "colorbar": {
             "outlinewidth": 0,
             "ticks": ""
            },
            "colorscale": [
             [
              0,
              "#0d0887"
             ],
             [
              0.1111111111111111,
              "#46039f"
             ],
             [
              0.2222222222222222,
              "#7201a8"
             ],
             [
              0.3333333333333333,
              "#9c179e"
             ],
             [
              0.4444444444444444,
              "#bd3786"
             ],
             [
              0.5555555555555556,
              "#d8576b"
             ],
             [
              0.6666666666666666,
              "#ed7953"
             ],
             [
              0.7777777777777778,
              "#fb9f3a"
             ],
             [
              0.8888888888888888,
              "#fdca26"
             ],
             [
              1,
              "#f0f921"
             ]
            ],
            "type": "contour"
           }
          ],
          "contourcarpet": [
           {
            "colorbar": {
             "outlinewidth": 0,
             "ticks": ""
            },
            "type": "contourcarpet"
           }
          ],
          "heatmap": [
           {
            "colorbar": {
             "outlinewidth": 0,
             "ticks": ""
            },
            "colorscale": [
             [
              0,
              "#0d0887"
             ],
             [
              0.1111111111111111,
              "#46039f"
             ],
             [
              0.2222222222222222,
              "#7201a8"
             ],
             [
              0.3333333333333333,
              "#9c179e"
             ],
             [
              0.4444444444444444,
              "#bd3786"
             ],
             [
              0.5555555555555556,
              "#d8576b"
             ],
             [
              0.6666666666666666,
              "#ed7953"
             ],
             [
              0.7777777777777778,
              "#fb9f3a"
             ],
             [
              0.8888888888888888,
              "#fdca26"
             ],
             [
              1,
              "#f0f921"
             ]
            ],
            "type": "heatmap"
           }
          ],
          "heatmapgl": [
           {
            "colorbar": {
             "outlinewidth": 0,
             "ticks": ""
            },
            "colorscale": [
             [
              0,
              "#0d0887"
             ],
             [
              0.1111111111111111,
              "#46039f"
             ],
             [
              0.2222222222222222,
              "#7201a8"
             ],
             [
              0.3333333333333333,
              "#9c179e"
             ],
             [
              0.4444444444444444,
              "#bd3786"
             ],
             [
              0.5555555555555556,
              "#d8576b"
             ],
             [
              0.6666666666666666,
              "#ed7953"
             ],
             [
              0.7777777777777778,
              "#fb9f3a"
             ],
             [
              0.8888888888888888,
              "#fdca26"
             ],
             [
              1,
              "#f0f921"
             ]
            ],
            "type": "heatmapgl"
           }
          ],
          "histogram": [
           {
            "marker": {
             "pattern": {
              "fillmode": "overlay",
              "size": 10,
              "solidity": 0.2
             }
            },
            "type": "histogram"
           }
          ],
          "histogram2d": [
           {
            "colorbar": {
             "outlinewidth": 0,
             "ticks": ""
            },
            "colorscale": [
             [
              0,
              "#0d0887"
             ],
             [
              0.1111111111111111,
              "#46039f"
             ],
             [
              0.2222222222222222,
              "#7201a8"
             ],
             [
              0.3333333333333333,
              "#9c179e"
             ],
             [
              0.4444444444444444,
              "#bd3786"
             ],
             [
              0.5555555555555556,
              "#d8576b"
             ],
             [
              0.6666666666666666,
              "#ed7953"
             ],
             [
              0.7777777777777778,
              "#fb9f3a"
             ],
             [
              0.8888888888888888,
              "#fdca26"
             ],
             [
              1,
              "#f0f921"
             ]
            ],
            "type": "histogram2d"
           }
          ],
          "histogram2dcontour": [
           {
            "colorbar": {
             "outlinewidth": 0,
             "ticks": ""
            },
            "colorscale": [
             [
              0,
              "#0d0887"
             ],
             [
              0.1111111111111111,
              "#46039f"
             ],
             [
              0.2222222222222222,
              "#7201a8"
             ],
             [
              0.3333333333333333,
              "#9c179e"
             ],
             [
              0.4444444444444444,
              "#bd3786"
             ],
             [
              0.5555555555555556,
              "#d8576b"
             ],
             [
              0.6666666666666666,
              "#ed7953"
             ],
             [
              0.7777777777777778,
              "#fb9f3a"
             ],
             [
              0.8888888888888888,
              "#fdca26"
             ],
             [
              1,
              "#f0f921"
             ]
            ],
            "type": "histogram2dcontour"
           }
          ],
          "mesh3d": [
           {
            "colorbar": {
             "outlinewidth": 0,
             "ticks": ""
            },
            "type": "mesh3d"
           }
          ],
          "parcoords": [
           {
            "line": {
             "colorbar": {
              "outlinewidth": 0,
              "ticks": ""
             }
            },
            "type": "parcoords"
           }
          ],
          "pie": [
           {
            "automargin": true,
            "type": "pie"
           }
          ],
          "scatter": [
           {
            "fillpattern": {
             "fillmode": "overlay",
             "size": 10,
             "solidity": 0.2
            },
            "type": "scatter"
           }
          ],
          "scatter3d": [
           {
            "line": {
             "colorbar": {
              "outlinewidth": 0,
              "ticks": ""
             }
            },
            "marker": {
             "colorbar": {
              "outlinewidth": 0,
              "ticks": ""
             }
            },
            "type": "scatter3d"
           }
          ],
          "scattercarpet": [
           {
            "marker": {
             "colorbar": {
              "outlinewidth": 0,
              "ticks": ""
             }
            },
            "type": "scattercarpet"
           }
          ],
          "scattergeo": [
           {
            "marker": {
             "colorbar": {
              "outlinewidth": 0,
              "ticks": ""
             }
            },
            "type": "scattergeo"
           }
          ],
          "scattergl": [
           {
            "marker": {
             "colorbar": {
              "outlinewidth": 0,
              "ticks": ""
             }
            },
            "type": "scattergl"
           }
          ],
          "scattermapbox": [
           {
            "marker": {
             "colorbar": {
              "outlinewidth": 0,
              "ticks": ""
             }
            },
            "type": "scattermapbox"
           }
          ],
          "scatterpolar": [
           {
            "marker": {
             "colorbar": {
              "outlinewidth": 0,
              "ticks": ""
             }
            },
            "type": "scatterpolar"
           }
          ],
          "scatterpolargl": [
           {
            "marker": {
             "colorbar": {
              "outlinewidth": 0,
              "ticks": ""
             }
            },
            "type": "scatterpolargl"
           }
          ],
          "scatterternary": [
           {
            "marker": {
             "colorbar": {
              "outlinewidth": 0,
              "ticks": ""
             }
            },
            "type": "scatterternary"
           }
          ],
          "surface": [
           {
            "colorbar": {
             "outlinewidth": 0,
             "ticks": ""
            },
            "colorscale": [
             [
              0,
              "#0d0887"
             ],
             [
              0.1111111111111111,
              "#46039f"
             ],
             [
              0.2222222222222222,
              "#7201a8"
             ],
             [
              0.3333333333333333,
              "#9c179e"
             ],
             [
              0.4444444444444444,
              "#bd3786"
             ],
             [
              0.5555555555555556,
              "#d8576b"
             ],
             [
              0.6666666666666666,
              "#ed7953"
             ],
             [
              0.7777777777777778,
              "#fb9f3a"
             ],
             [
              0.8888888888888888,
              "#fdca26"
             ],
             [
              1,
              "#f0f921"
             ]
            ],
            "type": "surface"
           }
          ],
          "table": [
           {
            "cells": {
             "fill": {
              "color": "#EBF0F8"
             },
             "line": {
              "color": "white"
             }
            },
            "header": {
             "fill": {
              "color": "#C8D4E3"
             },
             "line": {
              "color": "white"
             }
            },
            "type": "table"
           }
          ]
         },
         "layout": {
          "annotationdefaults": {
           "arrowcolor": "#2a3f5f",
           "arrowhead": 0,
           "arrowwidth": 1
          },
          "autotypenumbers": "strict",
          "coloraxis": {
           "colorbar": {
            "outlinewidth": 0,
            "ticks": ""
           }
          },
          "colorscale": {
           "diverging": [
            [
             0,
             "#8e0152"
            ],
            [
             0.1,
             "#c51b7d"
            ],
            [
             0.2,
             "#de77ae"
            ],
            [
             0.3,
             "#f1b6da"
            ],
            [
             0.4,
             "#fde0ef"
            ],
            [
             0.5,
             "#f7f7f7"
            ],
            [
             0.6,
             "#e6f5d0"
            ],
            [
             0.7,
             "#b8e186"
            ],
            [
             0.8,
             "#7fbc41"
            ],
            [
             0.9,
             "#4d9221"
            ],
            [
             1,
             "#276419"
            ]
           ],
           "sequential": [
            [
             0,
             "#0d0887"
            ],
            [
             0.1111111111111111,
             "#46039f"
            ],
            [
             0.2222222222222222,
             "#7201a8"
            ],
            [
             0.3333333333333333,
             "#9c179e"
            ],
            [
             0.4444444444444444,
             "#bd3786"
            ],
            [
             0.5555555555555556,
             "#d8576b"
            ],
            [
             0.6666666666666666,
             "#ed7953"
            ],
            [
             0.7777777777777778,
             "#fb9f3a"
            ],
            [
             0.8888888888888888,
             "#fdca26"
            ],
            [
             1,
             "#f0f921"
            ]
           ],
           "sequentialminus": [
            [
             0,
             "#0d0887"
            ],
            [
             0.1111111111111111,
             "#46039f"
            ],
            [
             0.2222222222222222,
             "#7201a8"
            ],
            [
             0.3333333333333333,
             "#9c179e"
            ],
            [
             0.4444444444444444,
             "#bd3786"
            ],
            [
             0.5555555555555556,
             "#d8576b"
            ],
            [
             0.6666666666666666,
             "#ed7953"
            ],
            [
             0.7777777777777778,
             "#fb9f3a"
            ],
            [
             0.8888888888888888,
             "#fdca26"
            ],
            [
             1,
             "#f0f921"
            ]
           ]
          },
          "colorway": [
           "#636efa",
           "#EF553B",
           "#00cc96",
           "#ab63fa",
           "#FFA15A",
           "#19d3f3",
           "#FF6692",
           "#B6E880",
           "#FF97FF",
           "#FECB52"
          ],
          "font": {
           "color": "#2a3f5f"
          },
          "geo": {
           "bgcolor": "white",
           "lakecolor": "white",
           "landcolor": "#E5ECF6",
           "showlakes": true,
           "showland": true,
           "subunitcolor": "white"
          },
          "hoverlabel": {
           "align": "left"
          },
          "hovermode": "closest",
          "mapbox": {
           "style": "light"
          },
          "paper_bgcolor": "white",
          "plot_bgcolor": "#E5ECF6",
          "polar": {
           "angularaxis": {
            "gridcolor": "white",
            "linecolor": "white",
            "ticks": ""
           },
           "bgcolor": "#E5ECF6",
           "radialaxis": {
            "gridcolor": "white",
            "linecolor": "white",
            "ticks": ""
           }
          },
          "scene": {
           "xaxis": {
            "backgroundcolor": "#E5ECF6",
            "gridcolor": "white",
            "gridwidth": 2,
            "linecolor": "white",
            "showbackground": true,
            "ticks": "",
            "zerolinecolor": "white"
           },
           "yaxis": {
            "backgroundcolor": "#E5ECF6",
            "gridcolor": "white",
            "gridwidth": 2,
            "linecolor": "white",
            "showbackground": true,
            "ticks": "",
            "zerolinecolor": "white"
           },
           "zaxis": {
            "backgroundcolor": "#E5ECF6",
            "gridcolor": "white",
            "gridwidth": 2,
            "linecolor": "white",
            "showbackground": true,
            "ticks": "",
            "zerolinecolor": "white"
           }
          },
          "shapedefaults": {
           "line": {
            "color": "#2a3f5f"
           }
          },
          "ternary": {
           "aaxis": {
            "gridcolor": "white",
            "linecolor": "white",
            "ticks": ""
           },
           "baxis": {
            "gridcolor": "white",
            "linecolor": "white",
            "ticks": ""
           },
           "bgcolor": "#E5ECF6",
           "caxis": {
            "gridcolor": "white",
            "linecolor": "white",
            "ticks": ""
           }
          },
          "title": {
           "x": 0.05
          },
          "xaxis": {
           "automargin": true,
           "gridcolor": "white",
           "linecolor": "white",
           "ticks": "",
           "title": {
            "standoff": 15
           },
           "zerolinecolor": "white",
           "zerolinewidth": 2
          },
          "yaxis": {
           "automargin": true,
           "gridcolor": "white",
           "linecolor": "white",
           "ticks": "",
           "title": {
            "standoff": 15
           },
           "zerolinecolor": "white",
           "zerolinewidth": 2
          }
         }
        },
        "title": {
         "text": "Total Number of Accidents by Road Type and Urban/Rural Areas"
        },
        "xaxis": {
         "anchor": "y",
         "domain": [
          0,
          1
         ],
         "title": {
          "text": "Functional System"
         }
        },
        "yaxis": {
         "anchor": "x",
         "domain": [
          0,
          1
         ],
         "title": {
          "text": "Number of Accidents"
         }
        }
       }
      }
     },
     "metadata": {},
     "output_type": "display_data"
    }
   ],
   "source": [
    "# Make this horizontal bar\n",
    "# Group the data by urban/rural and road type and compute the total accidents for each group\n",
    "func_ru_grouped = filtered_data.groupby(['FUNC_SYSNAME', 'RUR_URB']).size().unstack(fill_value=0)\n",
    "\n",
    "# Reset index\n",
    "func_ru_grouped = func_ru_grouped.reset_index()\n",
    "\n",
    "# Melt the dataframe\n",
    "melted_data = func_ru_grouped.melt(id_vars='FUNC_SYSNAME', var_name='Urban/Rural', value_name='Number of Accidents')\n",
    "\n",
    "# Create an interactive grouped bar plot using plotly express\n",
    "fig = px.bar(melted_data, x='FUNC_SYSNAME', y='Number of Accidents', color='Urban/Rural',\n",
    "             title='Total Number of Accidents by Road Type and Urban/Rural Areas',\n",
    "             labels={'FUNC_SYSNAME': 'Functional System', 'Number of Accidents': 'Number of Accidents'},\n",
    "             barmode='group')  # Display bars for urban and rural areas side by side\n",
    "\n",
    "# Show plot\n",
    "fig.show()\n"
   ]
  }
 ],
 "metadata": {
  "kernelspec": {
   "display_name": "capstone",
   "language": "python",
   "name": "python3"
  },
  "language_info": {
   "codemirror_mode": {
    "name": "ipython",
    "version": 3
   },
   "file_extension": ".py",
   "mimetype": "text/x-python",
   "name": "python",
   "nbconvert_exporter": "python",
   "pygments_lexer": "ipython3",
   "version": "3.12.1"
  }
 },
 "nbformat": 4,
 "nbformat_minor": 2
}
